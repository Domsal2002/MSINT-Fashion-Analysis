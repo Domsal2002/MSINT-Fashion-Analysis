{
  "cells": [
    {
      "cell_type": "markdown",
      "metadata": {
        "id": "Kd7BcmdC4iR_"
      },
      "source": [
        "# Case Study 1: Classification of Fashion MNIST Data"
      ]
    },
    {
      "cell_type": "markdown",
      "metadata": {
        "id": "m8JiRRcz4xrx"
      },
      "source": [
        "## **Objective**"
      ]
    },
    {
      "cell_type": "markdown",
      "metadata": {
        "id": "Z2iq96ai4pUV"
      },
      "source": [
        "### The purpose of this assignm is to a analyze and compare the performace of various classification algorithms on the Fashion MNIST dataset The assignmnet is split into two parts:\n",
        "\n",
        "1. Binary Classification: Distinguish between two specific classes.\n",
        "2. Multi-Class Classification: Classify images into all 10 categories.\n",
        "\n",
        "We will implement Logistic Regression, k-nearest Neighbots, Support Vector Machines, and Decision Trees for both tasks, experiment with hyperparameters and compare their performance."
      ]
    },
    {
      "cell_type": "markdown",
      "metadata": {
        "id": "WP7lXkhM5c2o"
      },
      "source": [
        "## Introduction\n"
      ]
    },
    {
      "cell_type": "markdown",
      "metadata": {
        "id": "fcK6EEsH9f17"
      },
      "source": [
        "The Fashion MNIST dataset is a collection of 70,000 grayscale images of size 28x28 pixels, categorized into 10 different fashion items. Each item representing a piece of clothing. A drop in replacement for the classic MNIST dataset of handwritten digits, making it ideal for benchmarking Machine Learning algorithms."
      ]
    },
    {
      "cell_type": "markdown",
      "metadata": {
        "id": "yGkyRW4L5WcV"
      },
      "source": [
        "## Part 1: Binary Classification\n",
        "\n"
      ]
    },
    {
      "cell_type": "markdown",
      "metadata": {
        "id": "0nxriLvjUFoP"
      },
      "source": [
        "In this part, we focus on distinguishing between tro specific classes from the Fashion MNIST dataset:\n",
        "\n",
        "    - Class 0: T-shirt\n",
        "    - Class 1: Trouser\n",
        "    \n",
        "We will implement and evaluate Logistic Regression, k-Nearest Neighbors (KNN), Support Vector Machines (SVM), and Decision Trees. For each algorithm, we'll experiment with at least 5 different hyperparameter combinations and evaluate their performance using accuracy, precision, recall, F1-score, ROC-AUC, and confusion matrix."
      ]
    },
    {
      "cell_type": "markdown",
      "metadata": {
        "id": "LwcqsPzk9jO4"
      },
      "source": [
        "### 1. Dataset Preparation\n"
      ]
    },
    {
      "cell_type": "markdown",
      "metadata": {
        "id": "ewoGpp-d9lM0"
      },
      "source": [
        "#### 1.1 Load the Fashion MNIST Dataset\n",
        "\n",
        "Below we import libraries used throughout the case study in a somewhat chronilogical order. We also import the two datasets the train and test.  "
      ]
    },
    {
      "cell_type": "code",
      "execution_count": 4,
      "metadata": {
        "colab": {
          "base_uri": "https://localhost:8080/"
        },
        "id": "yJ9gxniP_gIV",
        "outputId": "193f8b64-d85a-4fc0-df4d-d0e356634311"
      },
      "outputs": [
        {
          "name": "stdout",
          "output_type": "stream",
          "text": [
            "Train data shape: (10000, 785)\n",
            "Test data shape: (60000, 785)\n"
          ]
        }
      ],
      "source": [
        "import pandas as pd\n",
        "import numpy as np\n",
        "import matplotlib.pyplot as plt\n",
        "from sklearn.preprocessing import StandardScaler\n",
        "from sklearn.linear_model import LogisticRegression\n",
        "from sklearn.metrics import classification_report, roc_auc_score, confusion_matrix\n",
        "from sklearn.neighbors import KNeighborsClassifier\n",
        "from sklearn.svm import LinearSVC\n",
        "from sklearn.tree import DecisionTreeClassifier\n",
        "from sklearn.svm import SVC\n",
        "from sklearn.neighbors import KNeighborsClassifier\n",
        "\n",
        "train_data = pd.read_csv('./Data/fashion-mnist_test.csv')\n",
        "test_data = pd.read_csv('./Data/fashion-mnist_train.csv')\n",
        "\n",
        "print(f\"Train data shape: {train_data.shape}\")\n",
        "print(f\"Test data shape: {test_data.shape}\")\n"
      ]
    },
    {
      "cell_type": "markdown",
      "metadata": {
        "id": "NFK5gzf16Vob"
      },
      "source": [
        "#### 1.2 Visualizing the Data\n",
        "\n",
        "Below we visualize one image per class to better understand the dataset."
      ]
    },
    {
      "cell_type": "code",
      "execution_count": 5,
      "metadata": {
        "colab": {
          "base_uri": "https://localhost:8080/",
          "height": 430
        },
        "id": "Z6M5F8zAfYg3",
        "outputId": "af44a2cb-ea86-429f-ff4b-08240f92221d"
      },
      "outputs": [
        {
          "data": {
            "image/png": "[encoded data removed]",
            "text/plain": [
              "<Figure size 1000x500 with 10 Axes>"
            ]
          },
          "metadata": {},
          "output_type": "display_data"
        }
      ],
      "source": [
        "def plot_one_image_per_class(data):\n",
        "    unique_labels = data['label'].unique()\n",
        "\n",
        "    fig, axes = plt.subplots(2, 5, figsize=(10, 5))\n",
        "\n",
        "    for i, label in enumerate(unique_labels):\n",
        "        class_data = data[data['label'] == label].iloc[0, 1:].values\n",
        "\n",
        "        image = class_data.reshape(28, 28)\n",
        "\n",
        "        ax = axes[i // 5, i % 5]\n",
        "        ax.imshow(image, cmap='gray')\n",
        "        ax.set_title(f\"Label: {label}\")\n",
        "        ax.axis('off')\n",
        "\n",
        "    plt.tight_layout()\n",
        "    plt.show()\n",
        "\n",
        "plot_one_image_per_class(train_data)\n"
      ]
    },
    {
      "cell_type": "markdown",
      "metadata": {
        "id": "5ZnEJAzm6dcA"
      },
      "source": [
        "#### 1.3 Selecting Two Classes\n",
        "For Binary Classification, we will choose:\n",
        "  - Class 0: T-shirt\n",
        "  - Class 1: Trouser/Pants"
      ]
    },
    {
      "cell_type": "code",
      "execution_count": 6,
      "metadata": {
        "colab": {
          "base_uri": "https://localhost:8080/"
        },
        "id": "ku3esNZuf2lw",
        "outputId": "08a0d7ae-af2b-47d1-9c4a-e630354b250c"
      },
      "outputs": [
        {
          "name": "stdout",
          "output_type": "stream",
          "text": [
            "Binary training set shape: (2000, 784)\n",
            "Binary testing set shape: (12000, 784)\n"
          ]
        }
      ],
      "source": [
        "binary_train_data = train_data[train_data['label'].isin([0, 1])]\n",
        "\n",
        "binary_test_data = test_data[test_data['label'].isin([0, 1])]\n",
        "\n",
        "Xb_train = binary_train_data.drop('label', axis=1).values\n",
        "yb_train = binary_train_data['label'].values\n",
        "\n",
        "Xb_test = binary_test_data.drop('label', axis=1).values\n",
        "yb_test = binary_test_data['label'].values\n",
        "\n",
        "print(f\"Binary training set shape: {Xb_train.shape}\")\n",
        "print(f\"Binary testing set shape: {Xb_test.shape}\")\n"
      ]
    },
    {
      "cell_type": "markdown",
      "metadata": {
        "id": "pGtgwqAD7Sc2"
      },
      "source": [
        "#### 1.4 Feature Scaling\n",
        "Below we will apply the feature scaling to standardize the data."
      ]
    },
    {
      "cell_type": "code",
      "execution_count": 7,
      "metadata": {
        "id": "Yqe7kyV0f5RV"
      },
      "outputs": [],
      "source": [
        "# Initialize the scaler\n",
        "scaler = StandardScaler()\n",
        "\n",
        "# Fit on training data and transform\n",
        "Xb_train = scaler.fit_transform(Xb_train)\n",
        "\n",
        "# Transform the test data\n",
        "Xb_test = scaler.transform(Xb_test)\n"
      ]
    },
    {
      "cell_type": "markdown",
      "metadata": {
        "id": "Ie4SskKj7eFr"
      },
      "source": [
        "### 2. Algorithms to Use"
      ]
    },
    {
      "cell_type": "markdown",
      "metadata": {
        "id": "jWgjPCmFxBLb"
      },
      "source": [
        "We will implement the following algorithms:\n",
        "  - Logistic Regression\n",
        "  - k-Nearest Neighbors\n",
        "  - Support Vector Machines\n",
        "  - Decision Tress"
      ]
    },
    {
      "cell_type": "markdown",
      "metadata": {
        "id": "Dxy6hN3t7s56"
      },
      "source": []
    },
    {
      "cell_type": "markdown",
      "metadata": {
        "id": "blsKxPwO7yEc"
      },
      "source": [
        "### 3. Hyperparameter Tuning"
      ]
    },
    {
      "cell_type": "markdown",
      "metadata": {
        "id": "dCPLGSpsW5W-"
      },
      "source": [
        "\n",
        "In this section we will experiment with at least 5 different hyperparameter combinations for each algorithm."
      ]
    },
    {
      "cell_type": "markdown",
      "metadata": {
        "id": "ufnCMTai9V-o"
      },
      "source": [
        "#### 3.1 Logistic Regression"
      ]
    },
    {
      "cell_type": "markdown",
      "metadata": {
        "id": "n9iwlP-l-DyA"
      },
      "source": [
        "##### 3.1.1 Hyperparamete Combinations\n",
        "\n",
        "Below is a list of dictionaries containing 5 different combinations of hyperparameters that are going to be used for Logistic Regression."
      ]
    },
    {
      "cell_type": "code",
      "execution_count": 5,
      "metadata": {
        "id": "7YXYwI3RgAn5"
      },
      "outputs": [],
      "source": [
        "logreg_params = [\n",
        "    {'C': 0.01, 'solver': 'liblinear', 'max_iter': 100},\n",
        "    {'C': 0.1, 'solver': 'liblinear', 'max_iter': 100},\n",
        "    {'C': 1, 'solver': 'liblinear', 'max_iter': 100},\n",
        "    {'C': 10, 'solver': 'liblinear', 'max_iter': 100},\n",
        "    {'C': 1, 'solver': 'lbfgs', 'max_iter': 200},\n",
        "]\n"
      ]
    },
    {
      "cell_type": "markdown",
      "metadata": {
        "id": "--bc38a2-urn"
      },
      "source": [
        "##### 3.1.2 Model training and Evaluation\n",
        "\n",
        "Below we initilize the model and train and run with the five different sets if hyperparams. We store the results for each for later evaluation.\n",
        "\n",
        "\n"
      ]
    },
    {
      "cell_type": "code",
      "execution_count": 13,
      "metadata": {
        "id": "HuGhw8g6gDfC"
      },
      "outputs": [],
      "source": [
        "logreg_results = []\n",
        "\n",
        "for params in logreg_params:\n",
        "    # Initialize the model with parameters\n",
        "    model = LogisticRegression(**params)\n",
        "\n",
        "    # Train the model\n",
        "    model.fit(Xb_train, yb_train)\n",
        "\n",
        "    # Make predictions\n",
        "    y_pred = model.predict(Xb_test)\n",
        "    y_prob = model.predict_proba(Xb_test)[:, 1]\n",
        "\n",
        "    # Evaluate the model\n",
        "    report = classification_report(yb_test, y_pred, output_dict=True, zero_division=0)\n",
        "    auc = roc_auc_score(yb_test, y_prob)\n",
        "    confusion = confusion_matrix(yb_test, y_pred)\n",
        "\n",
        "    # Store the results\n",
        "    logreg_results.append({\n",
        "        'Parameters': params,\n",
        "        'Accuracy': report['accuracy'],\n",
        "        'Precision': report['1']['precision'],\n",
        "        'Recall': report['1']['recall'],\n",
        "        'F1-Score': report['1']['f1-score'],\n",
        "        'ROC-AUC': auc,\n",
        "        'Confusion Matrix': confusion\n",
        "    })"
      ]
    },
    {
      "cell_type": "markdown",
      "metadata": {
        "id": "glsHNxR3Ay3S"
      },
      "source": [
        "#### 3.2 k-Nearest Neighbors"
      ]
    },
    {
      "cell_type": "markdown",
      "metadata": {
        "id": "VlwOCyTdA56f"
      },
      "source": [
        "##### 3.2.1 Hyperparameter Combinations\n",
        "\n",
        "Below is a list of dictionaries containing 5 different combinations of hyperparameters that are going to be used for k-Nearest Neighbors."
      ]
    },
    {
      "cell_type": "code",
      "execution_count": 7,
      "metadata": {
        "id": "ajtNUcQsgQ1x"
      },
      "outputs": [],
      "source": [
        "knn_params = [\n",
        "    {'n_neighbors': 3, 'weights': 'uniform', 'metric': 'euclidean'},\n",
        "    {'n_neighbors': 5, 'weights': 'uniform', 'metric': 'euclidean'},\n",
        "    {'n_neighbors': 7, 'weights': 'distance', 'metric': 'manhattan'},\n",
        "    {'n_neighbors': 9, 'weights': 'distance', 'metric': 'manhattan'},\n",
        "    {'n_neighbors': 11, 'weights': 'uniform', 'metric': 'minkowski'},\n",
        "]\n"
      ]
    },
    {
      "cell_type": "markdown",
      "metadata": {
        "id": "55QX8PXsBMQf"
      },
      "source": [
        "##### 3.2.2 Model Training and Evaluation\n",
        "\n",
        "Below we initilize the model and train and run with the five different sets if hyperparams. We store the results for each for later evaluation."
      ]
    },
    {
      "cell_type": "code",
      "execution_count": 14,
      "metadata": {
        "id": "HOlh_tjTgTO9"
      },
      "outputs": [],
      "source": [
        "knn_results = []\n",
        "\n",
        "for params in knn_params:\n",
        "    # Initialize the model with parameters\n",
        "    model = KNeighborsClassifier(**params)\n",
        "\n",
        "    # Train the model\n",
        "    model.fit(Xb_train, yb_train)\n",
        "\n",
        "    # Make predictions\n",
        "    y_pred = model.predict(Xb_test)\n",
        "\n",
        "    # Evaluate the model\n",
        "    report = classification_report(yb_test, y_pred, output_dict=True, zero_division=0)\n",
        "    confusion = confusion_matrix(yb_test, y_pred)\n",
        "\n",
        "    # Store the results\n",
        "    knn_results.append({\n",
        "        'Parameters': params,\n",
        "        'Accuracy': report['accuracy'],\n",
        "        'Precision': report['1']['precision'],\n",
        "        'Recall': report['1']['recall'],\n",
        "        'F1-Score': report['1']['f1-score'],\n",
        "        'ROC-AUC': 'N/A',\n",
        "        'Confusion Matrix': confusion\n",
        "    })\n"
      ]
    },
    {
      "cell_type": "markdown",
      "metadata": {
        "id": "Q7K16IhGxQ_Z"
      },
      "source": [
        "#### 3.3 Support Vector Machines"
      ]
    },
    {
      "cell_type": "markdown",
      "metadata": {
        "id": "njR0heVhxVQk"
      },
      "source": [
        "##### 3.3.1 Hyperparameter Combinations\n",
        "\n",
        "Below is a list of dictionaries containing 5 different combinations of hyperparameters that are going to be used for Support Vector Machines."
      ]
    },
    {
      "cell_type": "code",
      "execution_count": 16,
      "metadata": {
        "id": "e5AoUCjZxxXy"
      },
      "outputs": [],
      "source": [
        "svm_params = [\n",
        "    {'C': 0.1, 'max_iter': 1000},\n",
        "    {'C': 1, 'max_iter': 1000},\n",
        "    {'C': 10, 'max_iter': 1000},\n",
        "    {'C': 1, 'max_iter': 2000},\n",
        "    {'C': 1, 'max_iter': 5000},\n",
        "]"
      ]
    },
    {
      "cell_type": "markdown",
      "metadata": {
        "id": "bDrB71X9x0av"
      },
      "source": [
        "##### 3.3.2 Model Training and Evaluation\n",
        "\n",
        "Below we initilize the model and train and run with the five different sets if hyperparams. We store the results for each for later evaluation."
      ]
    },
    {
      "cell_type": "code",
      "execution_count": 17,
      "metadata": {
        "colab": {
          "base_uri": "https://localhost:8080/"
        },
        "id": "aS_EBPkRx7xs",
        "outputId": "362b9582-86b6-4be1-dd7a-6006ac63ff46"
      },
      "outputs": [],
      "source": [
        "svm_results = []\n",
        "\n",
        "for params in svm_params:\n",
        "    # Initialize the model with parameters\n",
        "    model = SVC(**params, probability=True)\n",
        "\n",
        "    # Train the model\n",
        "    model.fit(Xb_train, yb_train)\n",
        "\n",
        "    # Make predictions\n",
        "    y_pred = model.predict(Xb_test)\n",
        "    y_prob = model.predict_proba(Xb_test)[:, 1]\n",
        "\n",
        "    # Evaluate the model\n",
        "    report = classification_report(yb_test, y_pred, output_dict=True, zero_division=0)\n",
        "    auc = roc_auc_score(yb_test, y_prob)\n",
        "    confusion = confusion_matrix(yb_test, y_pred)\n",
        "\n",
        "    # Store the results\n",
        "    svm_results.append({\n",
        "        'Parameters': params,\n",
        "        'Accuracy': report['accuracy'],\n",
        "        'Precision': report['1']['precision'],\n",
        "        'Recall': report['1']['recall'],\n",
        "        'F1-Score': report['1']['f1-score'],\n",
        "        'ROC-AUC': auc,\n",
        "        'Confusion Matrix': confusion\n",
        "    })"
      ]
    },
    {
      "cell_type": "markdown",
      "metadata": {
        "id": "eboooaOhyDsy"
      },
      "source": [
        "#### 3.4 Decision Trees"
      ]
    },
    {
      "cell_type": "markdown",
      "metadata": {
        "id": "HBuFF8YuyJwr"
      },
      "source": [
        "##### 3.4.1 Hyperparameter Combinations\n",
        "\n",
        "Below is a list of dictionaries containing 5 different combinations of hyperparameters that are going to be used for Decision Trees."
      ]
    },
    {
      "cell_type": "code",
      "execution_count": 18,
      "metadata": {
        "id": "q8c_6StoyORe"
      },
      "outputs": [],
      "source": [
        "tree_params = [\n",
        "    {'max_depth': 5, 'min_samples_leaf': 1, 'criterion': 'gini'},\n",
        "    {'max_depth': 10, 'min_samples_leaf': 2, 'criterion': 'entropy'},\n",
        "    {'max_depth': None, 'min_samples_leaf': 1, 'criterion': 'gini'},\n",
        "    {'max_depth': 15, 'min_samples_leaf': 4, 'criterion': 'entropy'},\n",
        "    {'max_depth': 3, 'min_samples_leaf': 2, 'criterion': 'gini'},\n",
        "]"
      ]
    },
    {
      "cell_type": "markdown",
      "metadata": {
        "id": "pNqqUofqyQ-o"
      },
      "source": [
        "##### 3.4.2 Model Training and Evaluation\n",
        "\n",
        "Below we initilize the model and train and run with the five different sets if hyperparams. We store the results for each for later evaluation."
      ]
    },
    {
      "cell_type": "code",
      "execution_count": 19,
      "metadata": {
        "id": "1HXZ4PqJyU-k"
      },
      "outputs": [],
      "source": [
        "tree_results = []\n",
        "\n",
        "for params in tree_params:\n",
        "    # Initialize the model with parameters\n",
        "    model = DecisionTreeClassifier(**params)\n",
        "\n",
        "    # Train the model\n",
        "    model.fit(Xb_train, yb_train)\n",
        "\n",
        "    # Make predictions\n",
        "    y_pred = model.predict(Xb_test)\n",
        "    y_prob = model.predict_proba(Xb_test)[:, 1]\n",
        "\n",
        "    # Evaluate the model\n",
        "    report = classification_report(yb_test, y_pred, output_dict=True, zero_division=0)\n",
        "    auc = roc_auc_score(yb_test, y_prob)\n",
        "    confusion = confusion_matrix(yb_test, y_pred)\n",
        "\n",
        "    # Store the results\n",
        "    tree_results.append({\n",
        "        'Parameters': params,\n",
        "        'Accuracy': report['accuracy'],\n",
        "        'Precision': report['1']['precision'],\n",
        "        'Recall': report['1']['recall'],\n",
        "        'F1-Score': report['1']['f1-score'],\n",
        "        'ROC-AUC': auc,\n",
        "        'Confusion Matrix': confusion\n",
        "    })\n"
      ]
    },
    {
      "cell_type": "markdown",
      "metadata": {
        "id": "rp_tVVnj1nOz"
      },
      "source": [
        "### 4. Performance Evaluation"
      ]
    },
    {
      "cell_type": "markdown",
      "metadata": {
        "id": "08RUIiIN1tcZ"
      },
      "source": [
        "We will use the following performance metrics:\n",
        "   - Accuracy\n",
        "   - Precision\n",
        "   - Recall\n",
        "   - F1-Score\n",
        "   - Confusion Matrix"
      ]
    },
    {
      "cell_type": "markdown",
      "metadata": {
        "id": "ZDWB3DeJ16UY"
      },
      "source": [
        "#### 4.1 Logistic Regression Results"
      ]
    },
    {
      "cell_type": "markdown",
      "metadata": {
        "id": "OCoMO1czLfas"
      },
      "source": [
        "In this section we output the results from the training in the previous section. However the evaluation is done in section 5 and done more in depth in the report associated with this notebook."
      ]
    },
    {
      "cell_type": "code",
      "execution_count": 20,
      "metadata": {
        "colab": {
          "base_uri": "https://localhost:8080/",
          "height": 224
        },
        "id": "djgtYCzS19zJ",
        "outputId": "bd8df0c4-1d24-49bb-cde6-eae798bfd392"
      },
      "outputs": [
        {
          "name": "stdout",
          "output_type": "stream",
          "text": [
            "Logistic Regression Results:\n"
          ]
        },
        {
          "data": {
            "text/html": [
              "<div>\n",
              "<style scoped>\n",
              "    .dataframe tbody tr th:only-of-type {\n",
              "        vertical-align: middle;\n",
              "    }\n",
              "\n",
              "    .dataframe tbody tr th {\n",
              "        vertical-align: top;\n",
              "    }\n",
              "\n",
              "    .dataframe thead th {\n",
              "        text-align: right;\n",
              "    }\n",
              "</style>\n",
              "<table border=\"1\" class=\"dataframe\">\n",
              "  <thead>\n",
              "    <tr style=\"text-align: right;\">\n",
              "      <th></th>\n",
              "      <th>Parameters</th>\n",
              "      <th>Accuracy</th>\n",
              "      <th>Precision</th>\n",
              "      <th>Recall</th>\n",
              "      <th>F1-Score</th>\n",
              "      <th>ROC-AUC</th>\n",
              "      <th>Confusion Matrix</th>\n",
              "    </tr>\n",
              "  </thead>\n",
              "  <tbody>\n",
              "    <tr>\n",
              "      <th>0</th>\n",
              "      <td>{'C': 0.01, 'solver': 'liblinear', 'max_iter':...</td>\n",
              "      <td>0.986250</td>\n",
              "      <td>0.991244</td>\n",
              "      <td>0.981167</td>\n",
              "      <td>0.986180</td>\n",
              "      <td>0.998038</td>\n",
              "      <td>[[5948, 52], [113, 5887]]</td>\n",
              "    </tr>\n",
              "    <tr>\n",
              "      <th>1</th>\n",
              "      <td>{'C': 0.1, 'solver': 'liblinear', 'max_iter': ...</td>\n",
              "      <td>0.987333</td>\n",
              "      <td>0.990439</td>\n",
              "      <td>0.984167</td>\n",
              "      <td>0.987293</td>\n",
              "      <td>0.997934</td>\n",
              "      <td>[[5943, 57], [95, 5905]]</td>\n",
              "    </tr>\n",
              "    <tr>\n",
              "      <th>2</th>\n",
              "      <td>{'C': 1, 'solver': 'liblinear', 'max_iter': 100}</td>\n",
              "      <td>0.987083</td>\n",
              "      <td>0.989777</td>\n",
              "      <td>0.984333</td>\n",
              "      <td>0.987048</td>\n",
              "      <td>0.997949</td>\n",
              "      <td>[[5939, 61], [94, 5906]]</td>\n",
              "    </tr>\n",
              "    <tr>\n",
              "      <th>3</th>\n",
              "      <td>{'C': 10, 'solver': 'liblinear', 'max_iter': 100}</td>\n",
              "      <td>0.986417</td>\n",
              "      <td>0.989107</td>\n",
              "      <td>0.983667</td>\n",
              "      <td>0.986379</td>\n",
              "      <td>0.997732</td>\n",
              "      <td>[[5935, 65], [98, 5902]]</td>\n",
              "    </tr>\n",
              "    <tr>\n",
              "      <th>4</th>\n",
              "      <td>{'C': 1, 'solver': 'lbfgs', 'max_iter': 200}</td>\n",
              "      <td>0.987000</td>\n",
              "      <td>0.989611</td>\n",
              "      <td>0.984333</td>\n",
              "      <td>0.986965</td>\n",
              "      <td>0.997674</td>\n",
              "      <td>[[5938, 62], [94, 5906]]</td>\n",
              "    </tr>\n",
              "  </tbody>\n",
              "</table>\n",
              "</div>"
            ],
            "text/plain": [
              "                                          Parameters  Accuracy  Precision  \\\n",
              "0  {'C': 0.01, 'solver': 'liblinear', 'max_iter':...  0.986250   0.991244   \n",
              "1  {'C': 0.1, 'solver': 'liblinear', 'max_iter': ...  0.987333   0.990439   \n",
              "2   {'C': 1, 'solver': 'liblinear', 'max_iter': 100}  0.987083   0.989777   \n",
              "3  {'C': 10, 'solver': 'liblinear', 'max_iter': 100}  0.986417   0.989107   \n",
              "4       {'C': 1, 'solver': 'lbfgs', 'max_iter': 200}  0.987000   0.989611   \n",
              "\n",
              "     Recall  F1-Score   ROC-AUC           Confusion Matrix  \n",
              "0  0.981167  0.986180  0.998038  [[5948, 52], [113, 5887]]  \n",
              "1  0.984167  0.987293  0.997934   [[5943, 57], [95, 5905]]  \n",
              "2  0.984333  0.987048  0.997949   [[5939, 61], [94, 5906]]  \n",
              "3  0.983667  0.986379  0.997732   [[5935, 65], [98, 5902]]  \n",
              "4  0.984333  0.986965  0.997674   [[5938, 62], [94, 5906]]  "
            ]
          },
          "metadata": {},
          "output_type": "display_data"
        }
      ],
      "source": [
        "logreg_df = pd.DataFrame(logreg_results)\n",
        "print(\"Logistic Regression Results:\")\n",
        "display(logreg_df)"
      ]
    },
    {
      "cell_type": "markdown",
      "metadata": {
        "id": "M7ypkSJL2Ao5"
      },
      "source": [
        "#### 4.2 KNN Results"
      ]
    },
    {
      "cell_type": "code",
      "execution_count": 21,
      "metadata": {
        "colab": {
          "base_uri": "https://localhost:8080/",
          "height": 224
        },
        "id": "B-oLfcqc2DNp",
        "outputId": "dbd41086-5fd4-4418-a7d1-a65e6822402f"
      },
      "outputs": [
        {
          "name": "stdout",
          "output_type": "stream",
          "text": [
            "KNN Results:\n"
          ]
        },
        {
          "data": {
            "text/html": [
              "<div>\n",
              "<style scoped>\n",
              "    .dataframe tbody tr th:only-of-type {\n",
              "        vertical-align: middle;\n",
              "    }\n",
              "\n",
              "    .dataframe tbody tr th {\n",
              "        vertical-align: top;\n",
              "    }\n",
              "\n",
              "    .dataframe thead th {\n",
              "        text-align: right;\n",
              "    }\n",
              "</style>\n",
              "<table border=\"1\" class=\"dataframe\">\n",
              "  <thead>\n",
              "    <tr style=\"text-align: right;\">\n",
              "      <th></th>\n",
              "      <th>Parameters</th>\n",
              "      <th>Accuracy</th>\n",
              "      <th>Precision</th>\n",
              "      <th>Recall</th>\n",
              "      <th>F1-Score</th>\n",
              "      <th>ROC-AUC</th>\n",
              "    </tr>\n",
              "  </thead>\n",
              "  <tbody>\n",
              "    <tr>\n",
              "      <th>0</th>\n",
              "      <td>{'n_neighbors': 3, 'weights': 'uniform', 'metr...</td>\n",
              "      <td>0.982500</td>\n",
              "      <td>0.988360</td>\n",
              "      <td>0.976500</td>\n",
              "      <td>0.982394</td>\n",
              "      <td>N/A</td>\n",
              "    </tr>\n",
              "    <tr>\n",
              "      <th>1</th>\n",
              "      <td>{'n_neighbors': 5, 'weights': 'uniform', 'metr...</td>\n",
              "      <td>0.983083</td>\n",
              "      <td>0.989860</td>\n",
              "      <td>0.976167</td>\n",
              "      <td>0.982966</td>\n",
              "      <td>N/A</td>\n",
              "    </tr>\n",
              "    <tr>\n",
              "      <th>2</th>\n",
              "      <td>{'n_neighbors': 7, 'weights': 'distance', 'met...</td>\n",
              "      <td>0.984750</td>\n",
              "      <td>0.991052</td>\n",
              "      <td>0.978333</td>\n",
              "      <td>0.984652</td>\n",
              "      <td>N/A</td>\n",
              "    </tr>\n",
              "    <tr>\n",
              "      <th>3</th>\n",
              "      <td>{'n_neighbors': 9, 'weights': 'distance', 'met...</td>\n",
              "      <td>0.985333</td>\n",
              "      <td>0.991394</td>\n",
              "      <td>0.979167</td>\n",
              "      <td>0.985242</td>\n",
              "      <td>N/A</td>\n",
              "    </tr>\n",
              "    <tr>\n",
              "      <th>4</th>\n",
              "      <td>{'n_neighbors': 11, 'weights': 'uniform', 'met...</td>\n",
              "      <td>0.981500</td>\n",
              "      <td>0.991159</td>\n",
              "      <td>0.971667</td>\n",
              "      <td>0.981316</td>\n",
              "      <td>N/A</td>\n",
              "    </tr>\n",
              "  </tbody>\n",
              "</table>\n",
              "</div>"
            ],
            "text/plain": [
              "                                          Parameters  Accuracy  Precision  \\\n",
              "0  {'n_neighbors': 3, 'weights': 'uniform', 'metr...  0.982500   0.988360   \n",
              "1  {'n_neighbors': 5, 'weights': 'uniform', 'metr...  0.983083   0.989860   \n",
              "2  {'n_neighbors': 7, 'weights': 'distance', 'met...  0.984750   0.991052   \n",
              "3  {'n_neighbors': 9, 'weights': 'distance', 'met...  0.985333   0.991394   \n",
              "4  {'n_neighbors': 11, 'weights': 'uniform', 'met...  0.981500   0.991159   \n",
              "\n",
              "     Recall  F1-Score ROC-AUC  \n",
              "0  0.976500  0.982394     N/A  \n",
              "1  0.976167  0.982966     N/A  \n",
              "2  0.978333  0.984652     N/A  \n",
              "3  0.979167  0.985242     N/A  \n",
              "4  0.971667  0.981316     N/A  "
            ]
          },
          "metadata": {},
          "output_type": "display_data"
        }
      ],
      "source": [
        "knn_df = pd.DataFrame(knn_results)\n",
        "print(\"KNN Results:\")\n",
        "display(knn_df.drop(columns=['Confusion Matrix']))\n"
      ]
    },
    {
      "cell_type": "markdown",
      "metadata": {
        "id": "yw-IpYEH2Er5"
      },
      "source": [
        "#### 4.3 SVM Results"
      ]
    },
    {
      "cell_type": "code",
      "execution_count": 22,
      "metadata": {
        "colab": {
          "base_uri": "https://localhost:8080/",
          "height": 224
        },
        "id": "BXH_FVGM2Gib",
        "outputId": "702671bd-fe3f-4275-e2c5-a2acbbadb54b"
      },
      "outputs": [
        {
          "name": "stdout",
          "output_type": "stream",
          "text": [
            "SVM Results:\n"
          ]
        },
        {
          "data": {
            "text/html": [
              "<div>\n",
              "<style scoped>\n",
              "    .dataframe tbody tr th:only-of-type {\n",
              "        vertical-align: middle;\n",
              "    }\n",
              "\n",
              "    .dataframe tbody tr th {\n",
              "        vertical-align: top;\n",
              "    }\n",
              "\n",
              "    .dataframe thead th {\n",
              "        text-align: right;\n",
              "    }\n",
              "</style>\n",
              "<table border=\"1\" class=\"dataframe\">\n",
              "  <thead>\n",
              "    <tr style=\"text-align: right;\">\n",
              "      <th></th>\n",
              "      <th>Parameters</th>\n",
              "      <th>Accuracy</th>\n",
              "      <th>Precision</th>\n",
              "      <th>Recall</th>\n",
              "      <th>F1-Score</th>\n",
              "      <th>ROC-AUC</th>\n",
              "    </tr>\n",
              "  </thead>\n",
              "  <tbody>\n",
              "    <tr>\n",
              "      <th>0</th>\n",
              "      <td>{'C': 0.1, 'max_iter': 1000}</td>\n",
              "      <td>0.967083</td>\n",
              "      <td>0.996281</td>\n",
              "      <td>0.937667</td>\n",
              "      <td>0.966086</td>\n",
              "      <td>0.996601</td>\n",
              "    </tr>\n",
              "    <tr>\n",
              "      <th>1</th>\n",
              "      <td>{'C': 1, 'max_iter': 1000}</td>\n",
              "      <td>0.983500</td>\n",
              "      <td>0.997257</td>\n",
              "      <td>0.969667</td>\n",
              "      <td>0.983269</td>\n",
              "      <td>0.998582</td>\n",
              "    </tr>\n",
              "    <tr>\n",
              "      <th>2</th>\n",
              "      <td>{'C': 10, 'max_iter': 1000}</td>\n",
              "      <td>0.986833</td>\n",
              "      <td>0.996600</td>\n",
              "      <td>0.977000</td>\n",
              "      <td>0.986703</td>\n",
              "      <td>0.999179</td>\n",
              "    </tr>\n",
              "    <tr>\n",
              "      <th>3</th>\n",
              "      <td>{'C': 1, 'max_iter': 2000}</td>\n",
              "      <td>0.983500</td>\n",
              "      <td>0.997257</td>\n",
              "      <td>0.969667</td>\n",
              "      <td>0.983269</td>\n",
              "      <td>0.998586</td>\n",
              "    </tr>\n",
              "    <tr>\n",
              "      <th>4</th>\n",
              "      <td>{'C': 1, 'max_iter': 5000}</td>\n",
              "      <td>0.983500</td>\n",
              "      <td>0.997257</td>\n",
              "      <td>0.969667</td>\n",
              "      <td>0.983269</td>\n",
              "      <td>0.998593</td>\n",
              "    </tr>\n",
              "  </tbody>\n",
              "</table>\n",
              "</div>"
            ],
            "text/plain": [
              "                     Parameters  Accuracy  Precision    Recall  F1-Score  \\\n",
              "0  {'C': 0.1, 'max_iter': 1000}  0.967083   0.996281  0.937667  0.966086   \n",
              "1    {'C': 1, 'max_iter': 1000}  0.983500   0.997257  0.969667  0.983269   \n",
              "2   {'C': 10, 'max_iter': 1000}  0.986833   0.996600  0.977000  0.986703   \n",
              "3    {'C': 1, 'max_iter': 2000}  0.983500   0.997257  0.969667  0.983269   \n",
              "4    {'C': 1, 'max_iter': 5000}  0.983500   0.997257  0.969667  0.983269   \n",
              "\n",
              "    ROC-AUC  \n",
              "0  0.996601  \n",
              "1  0.998582  \n",
              "2  0.999179  \n",
              "3  0.998586  \n",
              "4  0.998593  "
            ]
          },
          "metadata": {},
          "output_type": "display_data"
        }
      ],
      "source": [
        "svm_df = pd.DataFrame(svm_results)\n",
        "print(\"SVM Results:\")\n",
        "display(svm_df.drop(columns=['Confusion Matrix']))\n"
      ]
    },
    {
      "cell_type": "markdown",
      "metadata": {
        "id": "GXmA_kZ22Lbt"
      },
      "source": [
        "#### 4.4 Decision Tree Results"
      ]
    },
    {
      "cell_type": "code",
      "execution_count": 23,
      "metadata": {
        "colab": {
          "base_uri": "https://localhost:8080/",
          "height": 224
        },
        "id": "6NDFaWus2P8v",
        "outputId": "e73e7587-f7ca-4b25-8750-262e55494348"
      },
      "outputs": [
        {
          "name": "stdout",
          "output_type": "stream",
          "text": [
            "Decision Tree Results:\n"
          ]
        },
        {
          "data": {
            "text/html": [
              "<div>\n",
              "<style scoped>\n",
              "    .dataframe tbody tr th:only-of-type {\n",
              "        vertical-align: middle;\n",
              "    }\n",
              "\n",
              "    .dataframe tbody tr th {\n",
              "        vertical-align: top;\n",
              "    }\n",
              "\n",
              "    .dataframe thead th {\n",
              "        text-align: right;\n",
              "    }\n",
              "</style>\n",
              "<table border=\"1\" class=\"dataframe\">\n",
              "  <thead>\n",
              "    <tr style=\"text-align: right;\">\n",
              "      <th></th>\n",
              "      <th>Parameters</th>\n",
              "      <th>Accuracy</th>\n",
              "      <th>Precision</th>\n",
              "      <th>Recall</th>\n",
              "      <th>F1-Score</th>\n",
              "      <th>ROC-AUC</th>\n",
              "    </tr>\n",
              "  </thead>\n",
              "  <tbody>\n",
              "    <tr>\n",
              "      <th>0</th>\n",
              "      <td>{'max_depth': 5, 'min_samples_leaf': 1, 'crite...</td>\n",
              "      <td>0.979083</td>\n",
              "      <td>0.980124</td>\n",
              "      <td>0.978000</td>\n",
              "      <td>0.979061</td>\n",
              "      <td>0.978839</td>\n",
              "    </tr>\n",
              "    <tr>\n",
              "      <th>1</th>\n",
              "      <td>{'max_depth': 10, 'min_samples_leaf': 2, 'crit...</td>\n",
              "      <td>0.975500</td>\n",
              "      <td>0.977410</td>\n",
              "      <td>0.973500</td>\n",
              "      <td>0.975451</td>\n",
              "      <td>0.977262</td>\n",
              "    </tr>\n",
              "    <tr>\n",
              "      <th>2</th>\n",
              "      <td>{'max_depth': None, 'min_samples_leaf': 1, 'cr...</td>\n",
              "      <td>0.971167</td>\n",
              "      <td>0.966656</td>\n",
              "      <td>0.976000</td>\n",
              "      <td>0.971305</td>\n",
              "      <td>0.971167</td>\n",
              "    </tr>\n",
              "    <tr>\n",
              "      <th>3</th>\n",
              "      <td>{'max_depth': 15, 'min_samples_leaf': 4, 'crit...</td>\n",
              "      <td>0.976583</td>\n",
              "      <td>0.977778</td>\n",
              "      <td>0.975333</td>\n",
              "      <td>0.976554</td>\n",
              "      <td>0.981368</td>\n",
              "    </tr>\n",
              "    <tr>\n",
              "      <th>4</th>\n",
              "      <td>{'max_depth': 3, 'min_samples_leaf': 2, 'crite...</td>\n",
              "      <td>0.975833</td>\n",
              "      <td>0.982916</td>\n",
              "      <td>0.968500</td>\n",
              "      <td>0.975655</td>\n",
              "      <td>0.982975</td>\n",
              "    </tr>\n",
              "  </tbody>\n",
              "</table>\n",
              "</div>"
            ],
            "text/plain": [
              "                                          Parameters  Accuracy  Precision  \\\n",
              "0  {'max_depth': 5, 'min_samples_leaf': 1, 'crite...  0.979083   0.980124   \n",
              "1  {'max_depth': 10, 'min_samples_leaf': 2, 'crit...  0.975500   0.977410   \n",
              "2  {'max_depth': None, 'min_samples_leaf': 1, 'cr...  0.971167   0.966656   \n",
              "3  {'max_depth': 15, 'min_samples_leaf': 4, 'crit...  0.976583   0.977778   \n",
              "4  {'max_depth': 3, 'min_samples_leaf': 2, 'crite...  0.975833   0.982916   \n",
              "\n",
              "     Recall  F1-Score   ROC-AUC  \n",
              "0  0.978000  0.979061  0.978839  \n",
              "1  0.973500  0.975451  0.977262  \n",
              "2  0.976000  0.971305  0.971167  \n",
              "3  0.975333  0.976554  0.981368  \n",
              "4  0.968500  0.975655  0.982975  "
            ]
          },
          "metadata": {},
          "output_type": "display_data"
        }
      ],
      "source": [
        "tree_df = pd.DataFrame(tree_results)\n",
        "print(\"Decision Tree Results:\")\n",
        "display(tree_df.drop(columns=['Confusion Matrix']))\n"
      ]
    },
    {
      "cell_type": "markdown",
      "metadata": {
        "id": "govYer2ULzQ5"
      },
      "source": [
        "### 5. Comparison"
      ]
    },
    {
      "cell_type": "markdown",
      "metadata": {
        "id": "FQuOSbraRo-d"
      },
      "source": [
        "Here we compare the performance of all the algorithms and conclude which one performs best for binary classification.*italicized text*"
      ]
    },
    {
      "cell_type": "code",
      "execution_count": 24,
      "metadata": {
        "colab": {
          "base_uri": "https://localhost:8080/",
          "height": 694
        },
        "id": "4uH3KusMRYwg",
        "outputId": "2257cc5f-b621-4e35-887a-4511e9449237"
      },
      "outputs": [
        {
          "name": "stdout",
          "output_type": "stream",
          "text": [
            "Combined Binary Classification Results:\n"
          ]
        },
        {
          "data": {
            "text/html": [
              "<div>\n",
              "<style scoped>\n",
              "    .dataframe tbody tr th:only-of-type {\n",
              "        vertical-align: middle;\n",
              "    }\n",
              "\n",
              "    .dataframe tbody tr th {\n",
              "        vertical-align: top;\n",
              "    }\n",
              "\n",
              "    .dataframe thead th {\n",
              "        text-align: right;\n",
              "    }\n",
              "</style>\n",
              "<table border=\"1\" class=\"dataframe\">\n",
              "  <thead>\n",
              "    <tr style=\"text-align: right;\">\n",
              "      <th></th>\n",
              "      <th>Model</th>\n",
              "      <th>Parameters</th>\n",
              "      <th>Accuracy</th>\n",
              "      <th>Precision</th>\n",
              "      <th>Recall</th>\n",
              "      <th>F1-Score</th>\n",
              "      <th>ROC-AUC</th>\n",
              "    </tr>\n",
              "  </thead>\n",
              "  <tbody>\n",
              "    <tr>\n",
              "      <th>0</th>\n",
              "      <td>Logistic Regression</td>\n",
              "      <td>{'C': 0.01, 'solver': 'liblinear', 'max_iter':...</td>\n",
              "      <td>0.986250</td>\n",
              "      <td>0.991244</td>\n",
              "      <td>0.981167</td>\n",
              "      <td>0.986180</td>\n",
              "      <td>0.998038</td>\n",
              "    </tr>\n",
              "    <tr>\n",
              "      <th>1</th>\n",
              "      <td>Logistic Regression</td>\n",
              "      <td>{'C': 0.1, 'solver': 'liblinear', 'max_iter': ...</td>\n",
              "      <td>0.987333</td>\n",
              "      <td>0.990439</td>\n",
              "      <td>0.984167</td>\n",
              "      <td>0.987293</td>\n",
              "      <td>0.997934</td>\n",
              "    </tr>\n",
              "    <tr>\n",
              "      <th>2</th>\n",
              "      <td>Logistic Regression</td>\n",
              "      <td>{'C': 1, 'solver': 'liblinear', 'max_iter': 100}</td>\n",
              "      <td>0.987083</td>\n",
              "      <td>0.989777</td>\n",
              "      <td>0.984333</td>\n",
              "      <td>0.987048</td>\n",
              "      <td>0.997949</td>\n",
              "    </tr>\n",
              "    <tr>\n",
              "      <th>3</th>\n",
              "      <td>Logistic Regression</td>\n",
              "      <td>{'C': 10, 'solver': 'liblinear', 'max_iter': 100}</td>\n",
              "      <td>0.986417</td>\n",
              "      <td>0.989107</td>\n",
              "      <td>0.983667</td>\n",
              "      <td>0.986379</td>\n",
              "      <td>0.997732</td>\n",
              "    </tr>\n",
              "    <tr>\n",
              "      <th>4</th>\n",
              "      <td>Logistic Regression</td>\n",
              "      <td>{'C': 1, 'solver': 'lbfgs', 'max_iter': 200}</td>\n",
              "      <td>0.987000</td>\n",
              "      <td>0.989611</td>\n",
              "      <td>0.984333</td>\n",
              "      <td>0.986965</td>\n",
              "      <td>0.997674</td>\n",
              "    </tr>\n",
              "    <tr>\n",
              "      <th>5</th>\n",
              "      <td>KNN</td>\n",
              "      <td>{'n_neighbors': 3, 'weights': 'uniform', 'metr...</td>\n",
              "      <td>0.982500</td>\n",
              "      <td>0.988360</td>\n",
              "      <td>0.976500</td>\n",
              "      <td>0.982394</td>\n",
              "      <td>N/A</td>\n",
              "    </tr>\n",
              "    <tr>\n",
              "      <th>6</th>\n",
              "      <td>KNN</td>\n",
              "      <td>{'n_neighbors': 5, 'weights': 'uniform', 'metr...</td>\n",
              "      <td>0.983083</td>\n",
              "      <td>0.989860</td>\n",
              "      <td>0.976167</td>\n",
              "      <td>0.982966</td>\n",
              "      <td>N/A</td>\n",
              "    </tr>\n",
              "    <tr>\n",
              "      <th>7</th>\n",
              "      <td>KNN</td>\n",
              "      <td>{'n_neighbors': 7, 'weights': 'distance', 'met...</td>\n",
              "      <td>0.984750</td>\n",
              "      <td>0.991052</td>\n",
              "      <td>0.978333</td>\n",
              "      <td>0.984652</td>\n",
              "      <td>N/A</td>\n",
              "    </tr>\n",
              "    <tr>\n",
              "      <th>8</th>\n",
              "      <td>KNN</td>\n",
              "      <td>{'n_neighbors': 9, 'weights': 'distance', 'met...</td>\n",
              "      <td>0.985333</td>\n",
              "      <td>0.991394</td>\n",
              "      <td>0.979167</td>\n",
              "      <td>0.985242</td>\n",
              "      <td>N/A</td>\n",
              "    </tr>\n",
              "    <tr>\n",
              "      <th>9</th>\n",
              "      <td>KNN</td>\n",
              "      <td>{'n_neighbors': 11, 'weights': 'uniform', 'met...</td>\n",
              "      <td>0.981500</td>\n",
              "      <td>0.991159</td>\n",
              "      <td>0.971667</td>\n",
              "      <td>0.981316</td>\n",
              "      <td>N/A</td>\n",
              "    </tr>\n",
              "    <tr>\n",
              "      <th>10</th>\n",
              "      <td>SVM</td>\n",
              "      <td>{'C': 0.1, 'max_iter': 1000}</td>\n",
              "      <td>0.967083</td>\n",
              "      <td>0.996281</td>\n",
              "      <td>0.937667</td>\n",
              "      <td>0.966086</td>\n",
              "      <td>0.996601</td>\n",
              "    </tr>\n",
              "    <tr>\n",
              "      <th>11</th>\n",
              "      <td>SVM</td>\n",
              "      <td>{'C': 1, 'max_iter': 1000}</td>\n",
              "      <td>0.983500</td>\n",
              "      <td>0.997257</td>\n",
              "      <td>0.969667</td>\n",
              "      <td>0.983269</td>\n",
              "      <td>0.998582</td>\n",
              "    </tr>\n",
              "    <tr>\n",
              "      <th>12</th>\n",
              "      <td>SVM</td>\n",
              "      <td>{'C': 10, 'max_iter': 1000}</td>\n",
              "      <td>0.986833</td>\n",
              "      <td>0.996600</td>\n",
              "      <td>0.977000</td>\n",
              "      <td>0.986703</td>\n",
              "      <td>0.999179</td>\n",
              "    </tr>\n",
              "    <tr>\n",
              "      <th>13</th>\n",
              "      <td>SVM</td>\n",
              "      <td>{'C': 1, 'max_iter': 2000}</td>\n",
              "      <td>0.983500</td>\n",
              "      <td>0.997257</td>\n",
              "      <td>0.969667</td>\n",
              "      <td>0.983269</td>\n",
              "      <td>0.998586</td>\n",
              "    </tr>\n",
              "    <tr>\n",
              "      <th>14</th>\n",
              "      <td>SVM</td>\n",
              "      <td>{'C': 1, 'max_iter': 5000}</td>\n",
              "      <td>0.983500</td>\n",
              "      <td>0.997257</td>\n",
              "      <td>0.969667</td>\n",
              "      <td>0.983269</td>\n",
              "      <td>0.998593</td>\n",
              "    </tr>\n",
              "    <tr>\n",
              "      <th>15</th>\n",
              "      <td>Decision Tree</td>\n",
              "      <td>{'max_depth': 5, 'min_samples_leaf': 1, 'crite...</td>\n",
              "      <td>0.979083</td>\n",
              "      <td>0.980124</td>\n",
              "      <td>0.978000</td>\n",
              "      <td>0.979061</td>\n",
              "      <td>0.978839</td>\n",
              "    </tr>\n",
              "    <tr>\n",
              "      <th>16</th>\n",
              "      <td>Decision Tree</td>\n",
              "      <td>{'max_depth': 10, 'min_samples_leaf': 2, 'crit...</td>\n",
              "      <td>0.975500</td>\n",
              "      <td>0.977410</td>\n",
              "      <td>0.973500</td>\n",
              "      <td>0.975451</td>\n",
              "      <td>0.977262</td>\n",
              "    </tr>\n",
              "    <tr>\n",
              "      <th>17</th>\n",
              "      <td>Decision Tree</td>\n",
              "      <td>{'max_depth': None, 'min_samples_leaf': 1, 'cr...</td>\n",
              "      <td>0.971167</td>\n",
              "      <td>0.966656</td>\n",
              "      <td>0.976000</td>\n",
              "      <td>0.971305</td>\n",
              "      <td>0.971167</td>\n",
              "    </tr>\n",
              "    <tr>\n",
              "      <th>18</th>\n",
              "      <td>Decision Tree</td>\n",
              "      <td>{'max_depth': 15, 'min_samples_leaf': 4, 'crit...</td>\n",
              "      <td>0.976583</td>\n",
              "      <td>0.977778</td>\n",
              "      <td>0.975333</td>\n",
              "      <td>0.976554</td>\n",
              "      <td>0.981368</td>\n",
              "    </tr>\n",
              "    <tr>\n",
              "      <th>19</th>\n",
              "      <td>Decision Tree</td>\n",
              "      <td>{'max_depth': 3, 'min_samples_leaf': 2, 'crite...</td>\n",
              "      <td>0.975833</td>\n",
              "      <td>0.982916</td>\n",
              "      <td>0.968500</td>\n",
              "      <td>0.975655</td>\n",
              "      <td>0.982975</td>\n",
              "    </tr>\n",
              "  </tbody>\n",
              "</table>\n",
              "</div>"
            ],
            "text/plain": [
              "                  Model                                         Parameters  \\\n",
              "0   Logistic Regression  {'C': 0.01, 'solver': 'liblinear', 'max_iter':...   \n",
              "1   Logistic Regression  {'C': 0.1, 'solver': 'liblinear', 'max_iter': ...   \n",
              "2   Logistic Regression   {'C': 1, 'solver': 'liblinear', 'max_iter': 100}   \n",
              "3   Logistic Regression  {'C': 10, 'solver': 'liblinear', 'max_iter': 100}   \n",
              "4   Logistic Regression       {'C': 1, 'solver': 'lbfgs', 'max_iter': 200}   \n",
              "5                   KNN  {'n_neighbors': 3, 'weights': 'uniform', 'metr...   \n",
              "6                   KNN  {'n_neighbors': 5, 'weights': 'uniform', 'metr...   \n",
              "7                   KNN  {'n_neighbors': 7, 'weights': 'distance', 'met...   \n",
              "8                   KNN  {'n_neighbors': 9, 'weights': 'distance', 'met...   \n",
              "9                   KNN  {'n_neighbors': 11, 'weights': 'uniform', 'met...   \n",
              "10                  SVM                       {'C': 0.1, 'max_iter': 1000}   \n",
              "11                  SVM                         {'C': 1, 'max_iter': 1000}   \n",
              "12                  SVM                        {'C': 10, 'max_iter': 1000}   \n",
              "13                  SVM                         {'C': 1, 'max_iter': 2000}   \n",
              "14                  SVM                         {'C': 1, 'max_iter': 5000}   \n",
              "15        Decision Tree  {'max_depth': 5, 'min_samples_leaf': 1, 'crite...   \n",
              "16        Decision Tree  {'max_depth': 10, 'min_samples_leaf': 2, 'crit...   \n",
              "17        Decision Tree  {'max_depth': None, 'min_samples_leaf': 1, 'cr...   \n",
              "18        Decision Tree  {'max_depth': 15, 'min_samples_leaf': 4, 'crit...   \n",
              "19        Decision Tree  {'max_depth': 3, 'min_samples_leaf': 2, 'crite...   \n",
              "\n",
              "    Accuracy  Precision    Recall  F1-Score   ROC-AUC  \n",
              "0   0.986250   0.991244  0.981167  0.986180  0.998038  \n",
              "1   0.987333   0.990439  0.984167  0.987293  0.997934  \n",
              "2   0.987083   0.989777  0.984333  0.987048  0.997949  \n",
              "3   0.986417   0.989107  0.983667  0.986379  0.997732  \n",
              "4   0.987000   0.989611  0.984333  0.986965  0.997674  \n",
              "5   0.982500   0.988360  0.976500  0.982394       N/A  \n",
              "6   0.983083   0.989860  0.976167  0.982966       N/A  \n",
              "7   0.984750   0.991052  0.978333  0.984652       N/A  \n",
              "8   0.985333   0.991394  0.979167  0.985242       N/A  \n",
              "9   0.981500   0.991159  0.971667  0.981316       N/A  \n",
              "10  0.967083   0.996281  0.937667  0.966086  0.996601  \n",
              "11  0.983500   0.997257  0.969667  0.983269  0.998582  \n",
              "12  0.986833   0.996600  0.977000  0.986703  0.999179  \n",
              "13  0.983500   0.997257  0.969667  0.983269  0.998586  \n",
              "14  0.983500   0.997257  0.969667  0.983269  0.998593  \n",
              "15  0.979083   0.980124  0.978000  0.979061  0.978839  \n",
              "16  0.975500   0.977410  0.973500  0.975451  0.977262  \n",
              "17  0.971167   0.966656  0.976000  0.971305  0.971167  \n",
              "18  0.976583   0.977778  0.975333  0.976554  0.981368  \n",
              "19  0.975833   0.982916  0.968500  0.975655  0.982975  "
            ]
          },
          "metadata": {},
          "output_type": "display_data"
        }
      ],
      "source": [
        "# Combine all results\n",
        "binary_results = pd.concat([\n",
        "    logreg_df.assign(Model='Logistic Regression'),\n",
        "    knn_df.assign(Model='KNN'),\n",
        "    svm_df.assign(Model='SVM'),\n",
        "    tree_df.assign(Model='Decision Tree')\n",
        "], ignore_index=True)\n",
        "\n",
        "# Rearranging columns for better readability\n",
        "binary_results = binary_results[['Model', 'Parameters', 'Accuracy', 'Precision', 'Recall', 'F1-Score', 'ROC-AUC']]\n",
        "\n",
        "# Display the combined results\n",
        "print(\"Combined Binary Classification Results:\")\n",
        "display(binary_results)\n"
      ]
    },
    {
      "cell_type": "markdown",
      "metadata": {
        "id": "hCJD4mbLSYGs"
      },
      "source": [
        "In the report associated with this notebook there is a much more in depth analysis of the results but here are the key findings for the purpose of the notebook.\n",
        "\n",
        "- The best Performing Model: Support Vector Machine with parameters {'C': 10, 'max_iter': 1000}.\n",
        "- Higher regularization (C) values improved SVM performance.\n",
        "- Logistic Regression also performed exceptionally well with low C values and the liblinear solver.\n",
        "- KNN's performance was enhanced by using distance weighting and an optimal number of neighbors.\n",
        "- Decision Trees, while effective, did not achieve the same level of accuracy as SVM or Logistic Regression."
      ]
    },
    {
      "cell_type": "markdown",
      "metadata": {
        "id": "_RJ-hm2jS4tE"
      },
      "source": []
    },
    {
      "cell_type": "markdown",
      "metadata": {
        "id": "tP61WlDOTm25"
      },
      "source": [
        "## Part 2: Multi-Class Classification"
      ]
    },
    {
      "cell_type": "markdown",
      "metadata": {
        "id": "jUYSaqhuUi0C"
      },
      "source": [
        "In this part, we will use the entire Fashion MNIST dataset to classify images into all 10 categories. We will implement and evaluate Logistic Regression, k-Nearest Neighbors (KNN), Support Vector Machines (SVM), and Decision Trees. For each algorithm, we'll experiment with at least 5 different hyperparameter combinations and evaluate their performance using accuracy, precision, recall, F1-score and confusion matrix."
      ]
    },
    {
      "cell_type": "markdown",
      "metadata": {
        "id": "VHpRnDbsVLAS"
      },
      "source": [
        "### 1 Dataset Preparation"
      ]
    },
    {
      "cell_type": "markdown",
      "metadata": {
        "id": "ie6s-e73We2L"
      },
      "source": [
        "#### 1.1 Load Data and import Necessary Libraries"
      ]
    },
    {
      "cell_type": "markdown",
      "metadata": {
        "id": "9mYky7HjVU6E"
      },
      "source": [
        "All of the imports for the entire notebook are in Part 1 section 1.1 these are in a semi chronological order. I say semi because there is some overlap because of libraries being used in different places. I am going to use the same data import from the same section. The visualiation I did in Part 1 section 1.2 will not be done again here as there is no need to visualize the data twice in the same notebook."
      ]
    },
    {
      "cell_type": "markdown",
      "metadata": {
        "id": "BQ9N5xsqVpXY"
      },
      "source": [
        "#### 1.2 Seperate Features and Labels"
      ]
    },
    {
      "cell_type": "markdown",
      "metadata": {
        "id": "VAg1gOwSV7_b"
      },
      "source": [
        "Here we are seperating the data for the multi class classification. Notice I use \"Xm\" train instead of b like in the previous part since these distinguish the train data and test data for binary and multi."
      ]
    },
    {
      "cell_type": "code",
      "execution_count": 8,
      "metadata": {
        "colab": {
          "base_uri": "https://localhost:8080/"
        },
        "id": "2xLy-RiqWMWm",
        "outputId": "dab27ff2-73b2-4cfd-9258-f20363cd6bc2"
      },
      "outputs": [
        {
          "name": "stdout",
          "output_type": "stream",
          "text": [
            "Feature training set shape: (10000, 784)\n",
            "Feature testing set shape: (60000, 784)\n"
          ]
        }
      ],
      "source": [
        "Xm_train = train_data.drop('label', axis=1).values\n",
        "ym_train = train_data['label'].values\n",
        "\n",
        "Xm_test = test_data.drop('label', axis=1).values\n",
        "ym_test = test_data['label'].values\n",
        "\n",
        "print(f\"Feature training set shape: {Xm_train.shape}\")\n",
        "print(f\"Feature testing set shape: {Xm_test.shape}\")"
      ]
    },
    {
      "cell_type": "markdown",
      "metadata": {
        "id": "oQUdZAszWN7S"
      },
      "source": [
        "#### 1.3 Feature Scaling"
      ]
    },
    {
      "cell_type": "code",
      "execution_count": 9,
      "metadata": {
        "id": "KuCtBxCwWTEv"
      },
      "outputs": [],
      "source": [
        "# Initialize the scaler\n",
        "scaler_multi = StandardScaler()\n",
        "\n",
        "# Fit on training data and transform\n",
        "Xm_train = scaler_multi.fit_transform(Xm_train)\n",
        "\n",
        "# Transform the test data\n",
        "Xm_test = scaler_multi.transform(Xm_test)"
      ]
    },
    {
      "cell_type": "markdown",
      "metadata": {
        "id": "nZ2vYa2DWn-Q"
      },
      "source": [
        "### 2. Algorithms to Use"
      ]
    },
    {
      "cell_type": "markdown",
      "metadata": {
        "id": "Sj02mCl9WrS5"
      },
      "source": [
        "We will implement and evaluate the following algorithms:\n",
        "\n",
        "- Logistic Regression\n",
        "- k-Nearest Neighbors (KNN)\n",
        "- Support Vector Machines (SVM)\n",
        "- Decision Trees"
      ]
    },
    {
      "cell_type": "markdown",
      "metadata": {
        "id": "TJpyJldOW_m0"
      },
      "source": [
        "### 3. Hyperparameter Tuning"
      ]
    },
    {
      "cell_type": "markdown",
      "metadata": {
        "id": "TfNtld2uXDd3"
      },
      "source": [
        "#### 3.1 Logistic Regression"
      ]
    },
    {
      "cell_type": "markdown",
      "metadata": {
        "id": "xPFs0XncXIou"
      },
      "source": [
        "##### 3.1.1 Hyperparamete Combinations"
      ]
    },
    {
      "cell_type": "code",
      "execution_count": 2,
      "metadata": {
        "id": "aTZaQuOSXM-x"
      },
      "outputs": [],
      "source": [
        "logreg_params_multi = [\n",
        "    {'C': 0.01, 'solver': 'lbfgs', 'max_iter': 100, 'multi_class': 'multinomial'},\n",
        "    {'C': 0.1, 'solver': 'lbfgs', 'max_iter': 200, 'multi_class': 'multinomial'},\n",
        "    {'C': 1, 'solver': 'sag', 'max_iter': 100, 'multi_class': 'multinomial'},\n",
        "    {'C': 10, 'solver': 'saga', 'max_iter': 200, 'multi_class': 'multinomial'},\n",
        "    {'C': 100, 'solver': 'lbfgs', 'max_iter': 300, 'multi_class': 'multinomial'},\n",
        "]"
      ]
    },
    {
      "cell_type": "markdown",
      "metadata": {
        "id": "pj0hOn1FXPB_"
      },
      "source": [
        "##### 3.1.2 Model Training and Evaluation"
      ]
    },
    {
      "cell_type": "code",
      "execution_count": 10,
      "metadata": {
        "colab": {
          "base_uri": "https://localhost:8080/"
        },
        "id": "jIBfUwzQXS11",
        "outputId": "57114312-3fea-4056-8c47-f3cffb30d887"
      },
      "outputs": [
        {
          "name": "stderr",
          "output_type": "stream",
          "text": [
            "/Users/domsal/Library/Mobile Documents/com~apple~CloudDocs/School/Fall 2024/Machine Learning/Case Study 1/test/lib/python3.12/site-packages/sklearn/linear_model/_logistic.py:1247: FutureWarning: 'multi_class' was deprecated in version 1.5 and will be removed in 1.7. From then on, it will always use 'multinomial'. Leave it to its default value to avoid this warning.\n",
            "  warnings.warn(\n",
            "/Users/domsal/Library/Mobile Documents/com~apple~CloudDocs/School/Fall 2024/Machine Learning/Case Study 1/test/lib/python3.12/site-packages/sklearn/linear_model/_logistic.py:469: ConvergenceWarning: lbfgs failed to converge (status=1):\n",
            "STOP: TOTAL NO. of ITERATIONS REACHED LIMIT.\n",
            "\n",
            "Increase the number of iterations (max_iter) or scale the data as shown in:\n",
            "    https://scikit-learn.org/stable/modules/preprocessing.html\n",
            "Please also refer to the documentation for alternative solver options:\n",
            "    https://scikit-learn.org/stable/modules/linear_model.html#logistic-regression\n",
            "  n_iter_i = _check_optimize_result(\n",
            "/Users/domsal/Library/Mobile Documents/com~apple~CloudDocs/School/Fall 2024/Machine Learning/Case Study 1/test/lib/python3.12/site-packages/sklearn/linear_model/_logistic.py:1247: FutureWarning: 'multi_class' was deprecated in version 1.5 and will be removed in 1.7. From then on, it will always use 'multinomial'. Leave it to its default value to avoid this warning.\n",
            "  warnings.warn(\n",
            "/Users/domsal/Library/Mobile Documents/com~apple~CloudDocs/School/Fall 2024/Machine Learning/Case Study 1/test/lib/python3.12/site-packages/sklearn/linear_model/_logistic.py:469: ConvergenceWarning: lbfgs failed to converge (status=1):\n",
            "STOP: TOTAL NO. of ITERATIONS REACHED LIMIT.\n",
            "\n",
            "Increase the number of iterations (max_iter) or scale the data as shown in:\n",
            "    https://scikit-learn.org/stable/modules/preprocessing.html\n",
            "Please also refer to the documentation for alternative solver options:\n",
            "    https://scikit-learn.org/stable/modules/linear_model.html#logistic-regression\n",
            "  n_iter_i = _check_optimize_result(\n",
            "/Users/domsal/Library/Mobile Documents/com~apple~CloudDocs/School/Fall 2024/Machine Learning/Case Study 1/test/lib/python3.12/site-packages/sklearn/linear_model/_logistic.py:1247: FutureWarning: 'multi_class' was deprecated in version 1.5 and will be removed in 1.7. From then on, it will always use 'multinomial'. Leave it to its default value to avoid this warning.\n",
            "  warnings.warn(\n",
            "/Users/domsal/Library/Mobile Documents/com~apple~CloudDocs/School/Fall 2024/Machine Learning/Case Study 1/test/lib/python3.12/site-packages/sklearn/linear_model/_sag.py:349: ConvergenceWarning: The max_iter was reached which means the coef_ did not converge\n",
            "  warnings.warn(\n",
            "/Users/domsal/Library/Mobile Documents/com~apple~CloudDocs/School/Fall 2024/Machine Learning/Case Study 1/test/lib/python3.12/site-packages/sklearn/linear_model/_logistic.py:1247: FutureWarning: 'multi_class' was deprecated in version 1.5 and will be removed in 1.7. From then on, it will always use 'multinomial'. Leave it to its default value to avoid this warning.\n",
            "  warnings.warn(\n",
            "/Users/domsal/Library/Mobile Documents/com~apple~CloudDocs/School/Fall 2024/Machine Learning/Case Study 1/test/lib/python3.12/site-packages/sklearn/linear_model/_sag.py:349: ConvergenceWarning: The max_iter was reached which means the coef_ did not converge\n",
            "  warnings.warn(\n",
            "/Users/domsal/Library/Mobile Documents/com~apple~CloudDocs/School/Fall 2024/Machine Learning/Case Study 1/test/lib/python3.12/site-packages/sklearn/linear_model/_logistic.py:1247: FutureWarning: 'multi_class' was deprecated in version 1.5 and will be removed in 1.7. From then on, it will always use 'multinomial'. Leave it to its default value to avoid this warning.\n",
            "  warnings.warn(\n",
            "/Users/domsal/Library/Mobile Documents/com~apple~CloudDocs/School/Fall 2024/Machine Learning/Case Study 1/test/lib/python3.12/site-packages/sklearn/linear_model/_logistic.py:469: ConvergenceWarning: lbfgs failed to converge (status=1):\n",
            "STOP: TOTAL NO. of ITERATIONS REACHED LIMIT.\n",
            "\n",
            "Increase the number of iterations (max_iter) or scale the data as shown in:\n",
            "    https://scikit-learn.org/stable/modules/preprocessing.html\n",
            "Please also refer to the documentation for alternative solver options:\n",
            "    https://scikit-learn.org/stable/modules/linear_model.html#logistic-regression\n",
            "  n_iter_i = _check_optimize_result(\n"
          ]
        }
      ],
      "source": [
        "logreg_results_multi = []\n",
        "\n",
        "for params in logreg_params_multi:\n",
        "    # Initialize the model with parameters\n",
        "    model = LogisticRegression(**params)\n",
        "\n",
        "    # Train the model\n",
        "    model.fit(Xm_train, ym_train)\n",
        "\n",
        "    # Make predictions\n",
        "    y_pred = model.predict(Xm_test)\n",
        "\n",
        "    # Evaluate the model\n",
        "    report = classification_report(ym_test, y_pred, output_dict=True, zero_division=0)\n",
        "    confusion = confusion_matrix(ym_test, y_pred)\n",
        "\n",
        "    # Store the results\n",
        "    logreg_results_multi.append({\n",
        "        'Parameters': params,\n",
        "        'Accuracy': report['accuracy'],\n",
        "        'Macro Precision': report['macro avg']['precision'],\n",
        "        'Macro Recall': report['macro avg']['recall'],\n",
        "        'Macro F1-Score': report['macro avg']['f1-score'],\n",
        "        'Confusion Matrix': confusion\n",
        "    })"
      ]
    },
    {
      "cell_type": "markdown",
      "metadata": {
        "id": "tfxSTeD9XcX_"
      },
      "source": [
        "#### 3.2 k-Nearest Neighbors"
      ]
    },
    {
      "cell_type": "markdown",
      "metadata": {
        "id": "KlA30dHmXfb2"
      },
      "source": [
        "##### 3.2.1 Hyperparameter Combinations"
      ]
    },
    {
      "cell_type": "code",
      "execution_count": 29,
      "metadata": {
        "id": "PMnEq1LOXjRx"
      },
      "outputs": [],
      "source": [
        "knn_params_multi = [\n",
        "    {'n_neighbors': 3, 'weights': 'uniform', 'metric': 'euclidean'},\n",
        "    {'n_neighbors': 5, 'weights': 'distance', 'metric': 'manhattan'},\n",
        "    {'n_neighbors': 7, 'weights': 'uniform', 'metric': 'minkowski'},\n",
        "    {'n_neighbors': 9, 'weights': 'distance', 'metric': 'euclidean'},\n",
        "    {'n_neighbors': 11, 'weights': 'uniform', 'metric': 'manhattan'},\n",
        "]"
      ]
    },
    {
      "cell_type": "markdown",
      "metadata": {
        "id": "TmmCrl1pXlI-"
      },
      "source": [
        "##### 3.2.2 Model Training and Evaluation"
      ]
    },
    {
      "cell_type": "code",
      "execution_count": 30,
      "metadata": {
        "id": "DuL-RViAXqHC"
      },
      "outputs": [],
      "source": [
        "knn_results_multi = []\n",
        "\n",
        "for params in knn_params_multi:\n",
        "    # Initialize the model with parameters\n",
        "    model = KNeighborsClassifier(**params)\n",
        "\n",
        "    # Train the model\n",
        "    model.fit(Xm_train, ym_train)\n",
        "\n",
        "    # Make predictions\n",
        "    y_pred = model.predict(Xm_test)\n",
        "\n",
        "    # Evaluate the model\n",
        "    report = classification_report(ym_test, y_pred, output_dict=True, zero_division=0)\n",
        "    confusion = confusion_matrix(ym_test, y_pred)\n",
        "\n",
        "    # Store the results\n",
        "    knn_results_multi.append({\n",
        "        'Parameters': params,\n",
        "        'Accuracy': report['accuracy'],\n",
        "        'Macro Precision': report['macro avg']['precision'],\n",
        "        'Macro Recall': report['macro avg']['recall'],\n",
        "        'Macro F1-Score': report['macro avg']['f1-score'],\n",
        "        'Confusion Matrix': confusion\n",
        "    })"
      ]
    },
    {
      "cell_type": "markdown",
      "metadata": {
        "id": "IL91W7-UXuwA"
      },
      "source": [
        "#### 3.3 Support Vector Machines"
      ]
    },
    {
      "cell_type": "markdown",
      "metadata": {
        "id": "_hhgAn95X0Hj"
      },
      "source": [
        "##### 3.3.1 Hyperparameter Combinations"
      ]
    },
    {
      "cell_type": "code",
      "execution_count": 31,
      "metadata": {
        "id": "0BJfxqwaX9A6"
      },
      "outputs": [],
      "source": [
        "svm_params_multi = [\n",
        "    {'C': 0.01, 'max_iter': 1000},\n",
        "    {'C': 0.1, 'max_iter': 1000},\n",
        "    {'C': 1, 'max_iter': 2000},\n",
        "    {'C': 10, 'max_iter': 3000},\n",
        "    {'C': 100, 'max_iter': 5000},\n",
        "]"
      ]
    },
    {
      "cell_type": "markdown",
      "metadata": {
        "id": "zQjitEgZX-wP"
      },
      "source": [
        "##### 3.3.2 Model Training and Evaluation"
      ]
    },
    {
      "cell_type": "code",
      "execution_count": 38,
      "metadata": {
        "colab": {
          "base_uri": "https://localhost:8080/"
        },
        "id": "cmU4hXHSYCdp",
        "outputId": "75fd8b94-9036-426d-e978-f5da7addd803"
      },
      "outputs": [
        {
          "name": "stderr",
          "output_type": "stream",
          "text": [
            "/Users/domsal/Library/Mobile Documents/com~apple~CloudDocs/School/Fall 2024/Machine Learning/Case Study 1/test/lib/python3.12/site-packages/sklearn/svm/_base.py:1235: ConvergenceWarning: Liblinear failed to converge, increase the number of iterations.\n",
            "  warnings.warn(\n",
            "/Users/domsal/Library/Mobile Documents/com~apple~CloudDocs/School/Fall 2024/Machine Learning/Case Study 1/test/lib/python3.12/site-packages/sklearn/svm/_base.py:1235: ConvergenceWarning: Liblinear failed to converge, increase the number of iterations.\n",
            "  warnings.warn(\n",
            "/Users/domsal/Library/Mobile Documents/com~apple~CloudDocs/School/Fall 2024/Machine Learning/Case Study 1/test/lib/python3.12/site-packages/sklearn/svm/_base.py:1235: ConvergenceWarning: Liblinear failed to converge, increase the number of iterations.\n",
            "  warnings.warn(\n"
          ]
        }
      ],
      "source": [
        "svm_results_multi = []\n",
        "\n",
        "for params in svm_params_multi:\n",
        "    # Initialize the model with parameters\n",
        "    model = LinearSVC(**params)\n",
        "\n",
        "    # Train the model\n",
        "    model.fit(Xm_train, ym_train)\n",
        "\n",
        "    # Make predictions\n",
        "    y_pred = model.predict(Xm_test)\n",
        "\n",
        "    # Evaluate the model\n",
        "    report = classification_report(ym_test, y_pred, output_dict=True, zero_division=0)\n",
        "    confusion = confusion_matrix(ym_test, y_pred)\n",
        "\n",
        "    # Store the results\n",
        "    svm_results_multi.append({\n",
        "        'Parameters': params,\n",
        "        'Accuracy': report['accuracy'],\n",
        "        'Macro Precision': report['macro avg']['precision'],\n",
        "        'Macro Recall': report['macro avg']['recall'],\n",
        "        'Macro F1-Score': report['macro avg']['f1-score'],\n",
        "        'Confusion Matrix': confusion\n",
        "    })"
      ]
    },
    {
      "cell_type": "markdown",
      "metadata": {
        "id": "2yFBw3OPYD9D"
      },
      "source": [
        "#### 3.4 Decision Trees"
      ]
    },
    {
      "cell_type": "markdown",
      "metadata": {
        "id": "Rha2205CYHBq"
      },
      "source": [
        "3.4.1 Hyperparameter Combinations"
      ]
    },
    {
      "cell_type": "code",
      "execution_count": 32,
      "metadata": {
        "id": "1YMXFYv5YJ23"
      },
      "outputs": [],
      "source": [
        "tree_params_multi = [\n",
        "    {'max_depth': 10, 'min_samples_leaf': 1, 'criterion': 'gini'},\n",
        "    {'max_depth': 20, 'min_samples_leaf': 2, 'criterion': 'entropy'},\n",
        "    {'max_depth': None, 'min_samples_leaf': 1, 'criterion': 'gini'},\n",
        "    {'max_depth': 15, 'min_samples_leaf': 4, 'criterion': 'entropy'},\n",
        "    {'max_depth': 5, 'min_samples_leaf': 2, 'criterion': 'gini'},\n",
        "]"
      ]
    },
    {
      "cell_type": "markdown",
      "metadata": {
        "id": "s2uLd-oJYMVz"
      },
      "source": [
        "##### 3.4.2 Model Training and Evaluation"
      ]
    },
    {
      "cell_type": "code",
      "execution_count": 33,
      "metadata": {
        "id": "Q8sk5ps1YQaB"
      },
      "outputs": [],
      "source": [
        "tree_results_multi = []\n",
        "\n",
        "for params in tree_params_multi:\n",
        "    # Initialize the model with parameters\n",
        "    model = DecisionTreeClassifier(**params)\n",
        "\n",
        "    # Train the model\n",
        "    model.fit(Xm_train, ym_train)\n",
        "\n",
        "    # Make predictions\n",
        "    y_pred = model.predict(Xm_test)\n",
        "\n",
        "    # Evaluate the model\n",
        "    report = classification_report(ym_test, y_pred, output_dict=True, zero_division=0)\n",
        "    confusion = confusion_matrix(ym_test, y_pred)\n",
        "\n",
        "    # Store the results\n",
        "    tree_results_multi.append({\n",
        "        'Parameters': params,\n",
        "        'Accuracy': report['accuracy'],\n",
        "        'Macro Precision': report['macro avg']['precision'],\n",
        "        'Macro Recall': report['macro avg']['recall'],\n",
        "        'Macro F1-Score': report['macro avg']['f1-score'],\n",
        "        'Confusion Matrix': confusion\n",
        "    })"
      ]
    },
    {
      "cell_type": "markdown",
      "metadata": {
        "id": "I-Zo5y1UY6L-"
      },
      "source": [
        "\n",
        "### 4. Performance Evaluation"
      ]
    },
    {
      "cell_type": "markdown",
      "metadata": {
        "id": "HoLoLONYY9_5"
      },
      "source": [
        "We will use the following performance metrics for multi-class classification:\n",
        "\n",
        "- Accuracy\n",
        "- Macro Precision\n",
        "- Macro Recall\n",
        "- Macro F1-Score\n",
        "- Confusion Matrix\n"
      ]
    },
    {
      "cell_type": "markdown",
      "metadata": {
        "id": "qtJoFLa0ZE2l"
      },
      "source": [
        "#### 4.1 Logistic Regression Results"
      ]
    },
    {
      "cell_type": "code",
      "execution_count": 11,
      "metadata": {
        "id": "NYJ4OBI4ZHTz"
      },
      "outputs": [
        {
          "name": "stdout",
          "output_type": "stream",
          "text": [
            "Logistic Regression Results (Multi-Class):\n"
          ]
        },
        {
          "data": {
            "text/html": [
              "<div>\n",
              "<style scoped>\n",
              "    .dataframe tbody tr th:only-of-type {\n",
              "        vertical-align: middle;\n",
              "    }\n",
              "\n",
              "    .dataframe tbody tr th {\n",
              "        vertical-align: top;\n",
              "    }\n",
              "\n",
              "    .dataframe thead th {\n",
              "        text-align: right;\n",
              "    }\n",
              "</style>\n",
              "<table border=\"1\" class=\"dataframe\">\n",
              "  <thead>\n",
              "    <tr style=\"text-align: right;\">\n",
              "      <th></th>\n",
              "      <th>Parameters</th>\n",
              "      <th>Accuracy</th>\n",
              "      <th>Macro Precision</th>\n",
              "      <th>Macro Recall</th>\n",
              "      <th>Macro F1-Score</th>\n",
              "    </tr>\n",
              "  </thead>\n",
              "  <tbody>\n",
              "    <tr>\n",
              "      <th>0</th>\n",
              "      <td>{'C': 0.01, 'solver': 'lbfgs', 'max_iter': 100...</td>\n",
              "      <td>0.843717</td>\n",
              "      <td>0.843158</td>\n",
              "      <td>0.843717</td>\n",
              "      <td>0.843255</td>\n",
              "    </tr>\n",
              "    <tr>\n",
              "      <th>1</th>\n",
              "      <td>{'C': 0.1, 'solver': 'lbfgs', 'max_iter': 200,...</td>\n",
              "      <td>0.830683</td>\n",
              "      <td>0.830514</td>\n",
              "      <td>0.830683</td>\n",
              "      <td>0.830457</td>\n",
              "    </tr>\n",
              "    <tr>\n",
              "      <th>2</th>\n",
              "      <td>{'C': 1, 'solver': 'sag', 'max_iter': 100, 'mu...</td>\n",
              "      <td>0.843817</td>\n",
              "      <td>0.843126</td>\n",
              "      <td>0.843817</td>\n",
              "      <td>0.843286</td>\n",
              "    </tr>\n",
              "    <tr>\n",
              "      <th>3</th>\n",
              "      <td>{'C': 10, 'solver': 'saga', 'max_iter': 200, '...</td>\n",
              "      <td>0.843817</td>\n",
              "      <td>0.843167</td>\n",
              "      <td>0.843817</td>\n",
              "      <td>0.843306</td>\n",
              "    </tr>\n",
              "    <tr>\n",
              "      <th>4</th>\n",
              "      <td>{'C': 100, 'solver': 'lbfgs', 'max_iter': 300,...</td>\n",
              "      <td>0.783133</td>\n",
              "      <td>0.784607</td>\n",
              "      <td>0.783133</td>\n",
              "      <td>0.783690</td>\n",
              "    </tr>\n",
              "  </tbody>\n",
              "</table>\n",
              "</div>"
            ],
            "text/plain": [
              "                                          Parameters  Accuracy  \\\n",
              "0  {'C': 0.01, 'solver': 'lbfgs', 'max_iter': 100...  0.843717   \n",
              "1  {'C': 0.1, 'solver': 'lbfgs', 'max_iter': 200,...  0.830683   \n",
              "2  {'C': 1, 'solver': 'sag', 'max_iter': 100, 'mu...  0.843817   \n",
              "3  {'C': 10, 'solver': 'saga', 'max_iter': 200, '...  0.843817   \n",
              "4  {'C': 100, 'solver': 'lbfgs', 'max_iter': 300,...  0.783133   \n",
              "\n",
              "   Macro Precision  Macro Recall  Macro F1-Score  \n",
              "0         0.843158      0.843717        0.843255  \n",
              "1         0.830514      0.830683        0.830457  \n",
              "2         0.843126      0.843817        0.843286  \n",
              "3         0.843167      0.843817        0.843306  \n",
              "4         0.784607      0.783133        0.783690  "
            ]
          },
          "metadata": {},
          "output_type": "display_data"
        }
      ],
      "source": [
        "logreg_multi_df = pd.DataFrame(logreg_results_multi)\n",
        "print(\"Logistic Regression Results (Multi-Class):\")\n",
        "display(logreg_multi_df.drop(columns=['Confusion Matrix']))"
      ]
    },
    {
      "cell_type": "markdown",
      "metadata": {
        "id": "n8YKRb6IZIZl"
      },
      "source": [
        "#### 4.2 KNN Results"
      ]
    },
    {
      "cell_type": "code",
      "execution_count": 35,
      "metadata": {
        "id": "CMr5up4hZKon"
      },
      "outputs": [
        {
          "name": "stdout",
          "output_type": "stream",
          "text": [
            "KNN Results (Multi-Class):\n"
          ]
        },
        {
          "data": {
            "text/html": [
              "<div>\n",
              "<style scoped>\n",
              "    .dataframe tbody tr th:only-of-type {\n",
              "        vertical-align: middle;\n",
              "    }\n",
              "\n",
              "    .dataframe tbody tr th {\n",
              "        vertical-align: top;\n",
              "    }\n",
              "\n",
              "    .dataframe thead th {\n",
              "        text-align: right;\n",
              "    }\n",
              "</style>\n",
              "<table border=\"1\" class=\"dataframe\">\n",
              "  <thead>\n",
              "    <tr style=\"text-align: right;\">\n",
              "      <th></th>\n",
              "      <th>Parameters</th>\n",
              "      <th>Accuracy</th>\n",
              "      <th>Macro Precision</th>\n",
              "      <th>Macro Recall</th>\n",
              "      <th>Macro F1-Score</th>\n",
              "    </tr>\n",
              "  </thead>\n",
              "  <tbody>\n",
              "    <tr>\n",
              "      <th>0</th>\n",
              "      <td>{'n_neighbors': 3, 'weights': 'uniform', 'metr...</td>\n",
              "      <td>0.815233</td>\n",
              "      <td>0.822266</td>\n",
              "      <td>0.815233</td>\n",
              "      <td>0.815827</td>\n",
              "    </tr>\n",
              "    <tr>\n",
              "      <th>1</th>\n",
              "      <td>{'n_neighbors': 5, 'weights': 'distance', 'met...</td>\n",
              "      <td>0.828583</td>\n",
              "      <td>0.832798</td>\n",
              "      <td>0.828583</td>\n",
              "      <td>0.829244</td>\n",
              "    </tr>\n",
              "    <tr>\n",
              "      <th>2</th>\n",
              "      <td>{'n_neighbors': 7, 'weights': 'uniform', 'metr...</td>\n",
              "      <td>0.818150</td>\n",
              "      <td>0.825218</td>\n",
              "      <td>0.818150</td>\n",
              "      <td>0.818545</td>\n",
              "    </tr>\n",
              "    <tr>\n",
              "      <th>3</th>\n",
              "      <td>{'n_neighbors': 9, 'weights': 'distance', 'met...</td>\n",
              "      <td>0.818317</td>\n",
              "      <td>0.826235</td>\n",
              "      <td>0.818317</td>\n",
              "      <td>0.819210</td>\n",
              "    </tr>\n",
              "    <tr>\n",
              "      <th>4</th>\n",
              "      <td>{'n_neighbors': 11, 'weights': 'uniform', 'met...</td>\n",
              "      <td>0.825100</td>\n",
              "      <td>0.828647</td>\n",
              "      <td>0.825100</td>\n",
              "      <td>0.824620</td>\n",
              "    </tr>\n",
              "  </tbody>\n",
              "</table>\n",
              "</div>"
            ],
            "text/plain": [
              "                                          Parameters  Accuracy  \\\n",
              "0  {'n_neighbors': 3, 'weights': 'uniform', 'metr...  0.815233   \n",
              "1  {'n_neighbors': 5, 'weights': 'distance', 'met...  0.828583   \n",
              "2  {'n_neighbors': 7, 'weights': 'uniform', 'metr...  0.818150   \n",
              "3  {'n_neighbors': 9, 'weights': 'distance', 'met...  0.818317   \n",
              "4  {'n_neighbors': 11, 'weights': 'uniform', 'met...  0.825100   \n",
              "\n",
              "   Macro Precision  Macro Recall  Macro F1-Score  \n",
              "0         0.822266      0.815233        0.815827  \n",
              "1         0.832798      0.828583        0.829244  \n",
              "2         0.825218      0.818150        0.818545  \n",
              "3         0.826235      0.818317        0.819210  \n",
              "4         0.828647      0.825100        0.824620  "
            ]
          },
          "metadata": {},
          "output_type": "display_data"
        }
      ],
      "source": [
        "knn_multi_df = pd.DataFrame(knn_results_multi)\n",
        "print(\"KNN Results (Multi-Class):\")\n",
        "display(knn_multi_df.drop(columns=['Confusion Matrix']))"
      ]
    },
    {
      "cell_type": "markdown",
      "metadata": {
        "id": "VWZJ0D4oZLl8"
      },
      "source": [
        "#### 4.3 SVM Results"
      ]
    },
    {
      "cell_type": "code",
      "execution_count": 39,
      "metadata": {
        "id": "iCtsQRXxZPFD"
      },
      "outputs": [
        {
          "name": "stdout",
          "output_type": "stream",
          "text": [
            "SVM Results (Multi-Class):\n"
          ]
        },
        {
          "data": {
            "text/html": [
              "<div>\n",
              "<style scoped>\n",
              "    .dataframe tbody tr th:only-of-type {\n",
              "        vertical-align: middle;\n",
              "    }\n",
              "\n",
              "    .dataframe tbody tr th {\n",
              "        vertical-align: top;\n",
              "    }\n",
              "\n",
              "    .dataframe thead th {\n",
              "        text-align: right;\n",
              "    }\n",
              "</style>\n",
              "<table border=\"1\" class=\"dataframe\">\n",
              "  <thead>\n",
              "    <tr style=\"text-align: right;\">\n",
              "      <th></th>\n",
              "      <th>Parameters</th>\n",
              "      <th>Accuracy</th>\n",
              "      <th>Macro Precision</th>\n",
              "      <th>Macro Recall</th>\n",
              "      <th>Macro F1-Score</th>\n",
              "    </tr>\n",
              "  </thead>\n",
              "  <tbody>\n",
              "    <tr>\n",
              "      <th>0</th>\n",
              "      <td>{'C': 0.01, 'max_iter': 1000}</td>\n",
              "      <td>0.827483</td>\n",
              "      <td>0.825317</td>\n",
              "      <td>0.827483</td>\n",
              "      <td>0.825653</td>\n",
              "    </tr>\n",
              "    <tr>\n",
              "      <th>1</th>\n",
              "      <td>{'C': 0.1, 'max_iter': 1000}</td>\n",
              "      <td>0.807517</td>\n",
              "      <td>0.805533</td>\n",
              "      <td>0.807517</td>\n",
              "      <td>0.805976</td>\n",
              "    </tr>\n",
              "    <tr>\n",
              "      <th>2</th>\n",
              "      <td>{'C': 1, 'max_iter': 2000}</td>\n",
              "      <td>0.785167</td>\n",
              "      <td>0.782713</td>\n",
              "      <td>0.785167</td>\n",
              "      <td>0.783442</td>\n",
              "    </tr>\n",
              "    <tr>\n",
              "      <th>3</th>\n",
              "      <td>{'C': 10, 'max_iter': 3000}</td>\n",
              "      <td>0.772683</td>\n",
              "      <td>0.770555</td>\n",
              "      <td>0.772683</td>\n",
              "      <td>0.771130</td>\n",
              "    </tr>\n",
              "    <tr>\n",
              "      <th>4</th>\n",
              "      <td>{'C': 100, 'max_iter': 5000}</td>\n",
              "      <td>0.767033</td>\n",
              "      <td>0.765248</td>\n",
              "      <td>0.767033</td>\n",
              "      <td>0.765597</td>\n",
              "    </tr>\n",
              "  </tbody>\n",
              "</table>\n",
              "</div>"
            ],
            "text/plain": [
              "                      Parameters  Accuracy  Macro Precision  Macro Recall  \\\n",
              "0  {'C': 0.01, 'max_iter': 1000}  0.827483         0.825317      0.827483   \n",
              "1   {'C': 0.1, 'max_iter': 1000}  0.807517         0.805533      0.807517   \n",
              "2     {'C': 1, 'max_iter': 2000}  0.785167         0.782713      0.785167   \n",
              "3    {'C': 10, 'max_iter': 3000}  0.772683         0.770555      0.772683   \n",
              "4   {'C': 100, 'max_iter': 5000}  0.767033         0.765248      0.767033   \n",
              "\n",
              "   Macro F1-Score  \n",
              "0        0.825653  \n",
              "1        0.805976  \n",
              "2        0.783442  \n",
              "3        0.771130  \n",
              "4        0.765597  "
            ]
          },
          "metadata": {},
          "output_type": "display_data"
        }
      ],
      "source": [
        "svm_multi_df = pd.DataFrame(svm_results_multi)\n",
        "print(\"SVM Results (Multi-Class):\")\n",
        "display(svm_multi_df.drop(columns=['Confusion Matrix']))"
      ]
    },
    {
      "cell_type": "markdown",
      "metadata": {
        "id": "4R8kpaK5ZRp1"
      },
      "source": [
        "#### 4.4 Decision Tree Results"
      ]
    },
    {
      "cell_type": "code",
      "execution_count": 37,
      "metadata": {
        "id": "WRlYrrV1ZVFU"
      },
      "outputs": [
        {
          "name": "stdout",
          "output_type": "stream",
          "text": [
            "Decision Tree Results (Multi-Class):\n"
          ]
        },
        {
          "data": {
            "text/html": [
              "<div>\n",
              "<style scoped>\n",
              "    .dataframe tbody tr th:only-of-type {\n",
              "        vertical-align: middle;\n",
              "    }\n",
              "\n",
              "    .dataframe tbody tr th {\n",
              "        vertical-align: top;\n",
              "    }\n",
              "\n",
              "    .dataframe thead th {\n",
              "        text-align: right;\n",
              "    }\n",
              "</style>\n",
              "<table border=\"1\" class=\"dataframe\">\n",
              "  <thead>\n",
              "    <tr style=\"text-align: right;\">\n",
              "      <th></th>\n",
              "      <th>Parameters</th>\n",
              "      <th>Accuracy</th>\n",
              "      <th>Macro Precision</th>\n",
              "      <th>Macro Recall</th>\n",
              "      <th>Macro F1-Score</th>\n",
              "    </tr>\n",
              "  </thead>\n",
              "  <tbody>\n",
              "    <tr>\n",
              "      <th>0</th>\n",
              "      <td>{'max_depth': 10, 'min_samples_leaf': 1, 'crit...</td>\n",
              "      <td>0.774967</td>\n",
              "      <td>0.780308</td>\n",
              "      <td>0.774967</td>\n",
              "      <td>0.776663</td>\n",
              "    </tr>\n",
              "    <tr>\n",
              "      <th>1</th>\n",
              "      <td>{'max_depth': 20, 'min_samples_leaf': 2, 'crit...</td>\n",
              "      <td>0.763333</td>\n",
              "      <td>0.764200</td>\n",
              "      <td>0.763333</td>\n",
              "      <td>0.763398</td>\n",
              "    </tr>\n",
              "    <tr>\n",
              "      <th>2</th>\n",
              "      <td>{'max_depth': None, 'min_samples_leaf': 1, 'cr...</td>\n",
              "      <td>0.753600</td>\n",
              "      <td>0.755018</td>\n",
              "      <td>0.753600</td>\n",
              "      <td>0.754239</td>\n",
              "    </tr>\n",
              "    <tr>\n",
              "      <th>3</th>\n",
              "      <td>{'max_depth': 15, 'min_samples_leaf': 4, 'crit...</td>\n",
              "      <td>0.767583</td>\n",
              "      <td>0.769620</td>\n",
              "      <td>0.767583</td>\n",
              "      <td>0.768330</td>\n",
              "    </tr>\n",
              "    <tr>\n",
              "      <th>4</th>\n",
              "      <td>{'max_depth': 5, 'min_samples_leaf': 2, 'crite...</td>\n",
              "      <td>0.694317</td>\n",
              "      <td>0.718581</td>\n",
              "      <td>0.694317</td>\n",
              "      <td>0.681496</td>\n",
              "    </tr>\n",
              "  </tbody>\n",
              "</table>\n",
              "</div>"
            ],
            "text/plain": [
              "                                          Parameters  Accuracy  \\\n",
              "0  {'max_depth': 10, 'min_samples_leaf': 1, 'crit...  0.774967   \n",
              "1  {'max_depth': 20, 'min_samples_leaf': 2, 'crit...  0.763333   \n",
              "2  {'max_depth': None, 'min_samples_leaf': 1, 'cr...  0.753600   \n",
              "3  {'max_depth': 15, 'min_samples_leaf': 4, 'crit...  0.767583   \n",
              "4  {'max_depth': 5, 'min_samples_leaf': 2, 'crite...  0.694317   \n",
              "\n",
              "   Macro Precision  Macro Recall  Macro F1-Score  \n",
              "0         0.780308      0.774967        0.776663  \n",
              "1         0.764200      0.763333        0.763398  \n",
              "2         0.755018      0.753600        0.754239  \n",
              "3         0.769620      0.767583        0.768330  \n",
              "4         0.718581      0.694317        0.681496  "
            ]
          },
          "metadata": {},
          "output_type": "display_data"
        }
      ],
      "source": [
        "tree_multi_df = pd.DataFrame(tree_results_multi)\n",
        "print(\"Decision Tree Results (Multi-Class):\")\n",
        "display(tree_multi_df.drop(columns=['Confusion Matrix']))"
      ]
    },
    {
      "cell_type": "markdown",
      "metadata": {
        "id": "BZN8_gLAZWGH"
      },
      "source": [
        "### 5. Comparison"
      ]
    },
    {
      "cell_type": "markdown",
      "metadata": {
        "id": "CyMwVIPbZr10"
      },
      "source": [
        "Here we compare the performance of all the algorithms and conclude which one performs best for multi class classification."
      ]
    },
    {
      "cell_type": "code",
      "execution_count": 40,
      "metadata": {
        "id": "Kr8T2eZfZt0F"
      },
      "outputs": [
        {
          "name": "stdout",
          "output_type": "stream",
          "text": [
            "Combined Multi-Class Classification Results:\n"
          ]
        },
        {
          "data": {
            "text/html": [
              "<div>\n",
              "<style scoped>\n",
              "    .dataframe tbody tr th:only-of-type {\n",
              "        vertical-align: middle;\n",
              "    }\n",
              "\n",
              "    .dataframe tbody tr th {\n",
              "        vertical-align: top;\n",
              "    }\n",
              "\n",
              "    .dataframe thead th {\n",
              "        text-align: right;\n",
              "    }\n",
              "</style>\n",
              "<table border=\"1\" class=\"dataframe\">\n",
              "  <thead>\n",
              "    <tr style=\"text-align: right;\">\n",
              "      <th></th>\n",
              "      <th>Model</th>\n",
              "      <th>Parameters</th>\n",
              "      <th>Accuracy</th>\n",
              "      <th>Macro Precision</th>\n",
              "      <th>Macro Recall</th>\n",
              "      <th>Macro F1-Score</th>\n",
              "    </tr>\n",
              "  </thead>\n",
              "  <tbody>\n",
              "    <tr>\n",
              "      <th>0</th>\n",
              "      <td>Logistic Regression</td>\n",
              "      <td>{'C': 0.01, 'solver': 'lbfgs', 'max_iter': 100...</td>\n",
              "      <td>0.843717</td>\n",
              "      <td>0.843158</td>\n",
              "      <td>0.843717</td>\n",
              "      <td>0.843255</td>\n",
              "    </tr>\n",
              "    <tr>\n",
              "      <th>1</th>\n",
              "      <td>Logistic Regression</td>\n",
              "      <td>{'C': 0.1, 'solver': 'lbfgs', 'max_iter': 200,...</td>\n",
              "      <td>0.830683</td>\n",
              "      <td>0.830514</td>\n",
              "      <td>0.830683</td>\n",
              "      <td>0.830457</td>\n",
              "    </tr>\n",
              "    <tr>\n",
              "      <th>2</th>\n",
              "      <td>Logistic Regression</td>\n",
              "      <td>{'C': 1, 'solver': 'sag', 'max_iter': 100, 'mu...</td>\n",
              "      <td>0.843833</td>\n",
              "      <td>0.843182</td>\n",
              "      <td>0.843833</td>\n",
              "      <td>0.843322</td>\n",
              "    </tr>\n",
              "    <tr>\n",
              "      <th>3</th>\n",
              "      <td>Logistic Regression</td>\n",
              "      <td>{'C': 10, 'solver': 'saga', 'max_iter': 200, '...</td>\n",
              "      <td>0.843850</td>\n",
              "      <td>0.843195</td>\n",
              "      <td>0.843850</td>\n",
              "      <td>0.843337</td>\n",
              "    </tr>\n",
              "    <tr>\n",
              "      <th>4</th>\n",
              "      <td>Logistic Regression</td>\n",
              "      <td>{'C': 100, 'solver': 'lbfgs', 'max_iter': 300,...</td>\n",
              "      <td>0.783133</td>\n",
              "      <td>0.784607</td>\n",
              "      <td>0.783133</td>\n",
              "      <td>0.783690</td>\n",
              "    </tr>\n",
              "    <tr>\n",
              "      <th>5</th>\n",
              "      <td>KNN</td>\n",
              "      <td>{'n_neighbors': 3, 'weights': 'uniform', 'metr...</td>\n",
              "      <td>0.815233</td>\n",
              "      <td>0.822266</td>\n",
              "      <td>0.815233</td>\n",
              "      <td>0.815827</td>\n",
              "    </tr>\n",
              "    <tr>\n",
              "      <th>6</th>\n",
              "      <td>KNN</td>\n",
              "      <td>{'n_neighbors': 5, 'weights': 'distance', 'met...</td>\n",
              "      <td>0.828583</td>\n",
              "      <td>0.832798</td>\n",
              "      <td>0.828583</td>\n",
              "      <td>0.829244</td>\n",
              "    </tr>\n",
              "    <tr>\n",
              "      <th>7</th>\n",
              "      <td>KNN</td>\n",
              "      <td>{'n_neighbors': 7, 'weights': 'uniform', 'metr...</td>\n",
              "      <td>0.818150</td>\n",
              "      <td>0.825218</td>\n",
              "      <td>0.818150</td>\n",
              "      <td>0.818545</td>\n",
              "    </tr>\n",
              "    <tr>\n",
              "      <th>8</th>\n",
              "      <td>KNN</td>\n",
              "      <td>{'n_neighbors': 9, 'weights': 'distance', 'met...</td>\n",
              "      <td>0.818317</td>\n",
              "      <td>0.826235</td>\n",
              "      <td>0.818317</td>\n",
              "      <td>0.819210</td>\n",
              "    </tr>\n",
              "    <tr>\n",
              "      <th>9</th>\n",
              "      <td>KNN</td>\n",
              "      <td>{'n_neighbors': 11, 'weights': 'uniform', 'met...</td>\n",
              "      <td>0.825100</td>\n",
              "      <td>0.828647</td>\n",
              "      <td>0.825100</td>\n",
              "      <td>0.824620</td>\n",
              "    </tr>\n",
              "    <tr>\n",
              "      <th>10</th>\n",
              "      <td>SVM</td>\n",
              "      <td>{'C': 0.01, 'max_iter': 1000}</td>\n",
              "      <td>0.827483</td>\n",
              "      <td>0.825317</td>\n",
              "      <td>0.827483</td>\n",
              "      <td>0.825653</td>\n",
              "    </tr>\n",
              "    <tr>\n",
              "      <th>11</th>\n",
              "      <td>SVM</td>\n",
              "      <td>{'C': 0.1, 'max_iter': 1000}</td>\n",
              "      <td>0.807517</td>\n",
              "      <td>0.805533</td>\n",
              "      <td>0.807517</td>\n",
              "      <td>0.805976</td>\n",
              "    </tr>\n",
              "    <tr>\n",
              "      <th>12</th>\n",
              "      <td>SVM</td>\n",
              "      <td>{'C': 1, 'max_iter': 2000}</td>\n",
              "      <td>0.785167</td>\n",
              "      <td>0.782713</td>\n",
              "      <td>0.785167</td>\n",
              "      <td>0.783442</td>\n",
              "    </tr>\n",
              "    <tr>\n",
              "      <th>13</th>\n",
              "      <td>SVM</td>\n",
              "      <td>{'C': 10, 'max_iter': 3000}</td>\n",
              "      <td>0.772683</td>\n",
              "      <td>0.770555</td>\n",
              "      <td>0.772683</td>\n",
              "      <td>0.771130</td>\n",
              "    </tr>\n",
              "    <tr>\n",
              "      <th>14</th>\n",
              "      <td>SVM</td>\n",
              "      <td>{'C': 100, 'max_iter': 5000}</td>\n",
              "      <td>0.767033</td>\n",
              "      <td>0.765248</td>\n",
              "      <td>0.767033</td>\n",
              "      <td>0.765597</td>\n",
              "    </tr>\n",
              "    <tr>\n",
              "      <th>15</th>\n",
              "      <td>Decision Tree</td>\n",
              "      <td>{'max_depth': 10, 'min_samples_leaf': 1, 'crit...</td>\n",
              "      <td>0.774967</td>\n",
              "      <td>0.780308</td>\n",
              "      <td>0.774967</td>\n",
              "      <td>0.776663</td>\n",
              "    </tr>\n",
              "    <tr>\n",
              "      <th>16</th>\n",
              "      <td>Decision Tree</td>\n",
              "      <td>{'max_depth': 20, 'min_samples_leaf': 2, 'crit...</td>\n",
              "      <td>0.763333</td>\n",
              "      <td>0.764200</td>\n",
              "      <td>0.763333</td>\n",
              "      <td>0.763398</td>\n",
              "    </tr>\n",
              "    <tr>\n",
              "      <th>17</th>\n",
              "      <td>Decision Tree</td>\n",
              "      <td>{'max_depth': None, 'min_samples_leaf': 1, 'cr...</td>\n",
              "      <td>0.753600</td>\n",
              "      <td>0.755018</td>\n",
              "      <td>0.753600</td>\n",
              "      <td>0.754239</td>\n",
              "    </tr>\n",
              "    <tr>\n",
              "      <th>18</th>\n",
              "      <td>Decision Tree</td>\n",
              "      <td>{'max_depth': 15, 'min_samples_leaf': 4, 'crit...</td>\n",
              "      <td>0.767583</td>\n",
              "      <td>0.769620</td>\n",
              "      <td>0.767583</td>\n",
              "      <td>0.768330</td>\n",
              "    </tr>\n",
              "    <tr>\n",
              "      <th>19</th>\n",
              "      <td>Decision Tree</td>\n",
              "      <td>{'max_depth': 5, 'min_samples_leaf': 2, 'crite...</td>\n",
              "      <td>0.694317</td>\n",
              "      <td>0.718581</td>\n",
              "      <td>0.694317</td>\n",
              "      <td>0.681496</td>\n",
              "    </tr>\n",
              "  </tbody>\n",
              "</table>\n",
              "</div>"
            ],
            "text/plain": [
              "                  Model                                         Parameters  \\\n",
              "0   Logistic Regression  {'C': 0.01, 'solver': 'lbfgs', 'max_iter': 100...   \n",
              "1   Logistic Regression  {'C': 0.1, 'solver': 'lbfgs', 'max_iter': 200,...   \n",
              "2   Logistic Regression  {'C': 1, 'solver': 'sag', 'max_iter': 100, 'mu...   \n",
              "3   Logistic Regression  {'C': 10, 'solver': 'saga', 'max_iter': 200, '...   \n",
              "4   Logistic Regression  {'C': 100, 'solver': 'lbfgs', 'max_iter': 300,...   \n",
              "5                   KNN  {'n_neighbors': 3, 'weights': 'uniform', 'metr...   \n",
              "6                   KNN  {'n_neighbors': 5, 'weights': 'distance', 'met...   \n",
              "7                   KNN  {'n_neighbors': 7, 'weights': 'uniform', 'metr...   \n",
              "8                   KNN  {'n_neighbors': 9, 'weights': 'distance', 'met...   \n",
              "9                   KNN  {'n_neighbors': 11, 'weights': 'uniform', 'met...   \n",
              "10                  SVM                      {'C': 0.01, 'max_iter': 1000}   \n",
              "11                  SVM                       {'C': 0.1, 'max_iter': 1000}   \n",
              "12                  SVM                         {'C': 1, 'max_iter': 2000}   \n",
              "13                  SVM                        {'C': 10, 'max_iter': 3000}   \n",
              "14                  SVM                       {'C': 100, 'max_iter': 5000}   \n",
              "15        Decision Tree  {'max_depth': 10, 'min_samples_leaf': 1, 'crit...   \n",
              "16        Decision Tree  {'max_depth': 20, 'min_samples_leaf': 2, 'crit...   \n",
              "17        Decision Tree  {'max_depth': None, 'min_samples_leaf': 1, 'cr...   \n",
              "18        Decision Tree  {'max_depth': 15, 'min_samples_leaf': 4, 'crit...   \n",
              "19        Decision Tree  {'max_depth': 5, 'min_samples_leaf': 2, 'crite...   \n",
              "\n",
              "    Accuracy  Macro Precision  Macro Recall  Macro F1-Score  \n",
              "0   0.843717         0.843158      0.843717        0.843255  \n",
              "1   0.830683         0.830514      0.830683        0.830457  \n",
              "2   0.843833         0.843182      0.843833        0.843322  \n",
              "3   0.843850         0.843195      0.843850        0.843337  \n",
              "4   0.783133         0.784607      0.783133        0.783690  \n",
              "5   0.815233         0.822266      0.815233        0.815827  \n",
              "6   0.828583         0.832798      0.828583        0.829244  \n",
              "7   0.818150         0.825218      0.818150        0.818545  \n",
              "8   0.818317         0.826235      0.818317        0.819210  \n",
              "9   0.825100         0.828647      0.825100        0.824620  \n",
              "10  0.827483         0.825317      0.827483        0.825653  \n",
              "11  0.807517         0.805533      0.807517        0.805976  \n",
              "12  0.785167         0.782713      0.785167        0.783442  \n",
              "13  0.772683         0.770555      0.772683        0.771130  \n",
              "14  0.767033         0.765248      0.767033        0.765597  \n",
              "15  0.774967         0.780308      0.774967        0.776663  \n",
              "16  0.763333         0.764200      0.763333        0.763398  \n",
              "17  0.753600         0.755018      0.753600        0.754239  \n",
              "18  0.767583         0.769620      0.767583        0.768330  \n",
              "19  0.694317         0.718581      0.694317        0.681496  "
            ]
          },
          "metadata": {},
          "output_type": "display_data"
        }
      ],
      "source": [
        "multi_results = pd.concat([\n",
        "    logreg_multi_df.assign(Model='Logistic Regression'),\n",
        "    knn_multi_df.assign(Model='KNN'),\n",
        "    svm_multi_df.assign(Model='SVM'),\n",
        "    tree_multi_df.assign(Model='Decision Tree')\n",
        "], ignore_index=True)\n",
        "\n",
        "# Rearranging columns for better readability\n",
        "multi_results = multi_results[['Model', 'Parameters', 'Accuracy', 'Macro Precision', 'Macro Recall', 'Macro F1-Score']]\n",
        "\n",
        "# Display the combined results\n",
        "print(\"Combined Multi-Class Classification Results:\")\n",
        "display(multi_results)"
      ]
    },
    {
      "cell_type": "markdown",
      "metadata": {},
      "source": [
        "In the report associated with this notebook there is a much more in depth analysis of the results but here are the key findings for the purpose of the notebook.\n",
        "\n",
        "- Logistic Regression is the preferred model for multi-class classification on this dataset, achieving the highest accuracy and balanced performance across precision, recall, and F1-score.\n",
        "- KNN is a viable alternative, especially with:\n",
        "    - n_neighbors=5\n",
        "    - weights='distance'\n",
        "    - metric='manhattan'  "
      ]
    }
  ],
  "metadata": {
    "accelerator": "GPU",
    "colab": {
      "gpuType": "T4",
      "provenance": []
    },
    "kernelspec": {
      "display_name": "Python 3",
      "name": "python3"
    },
    "language_info": {
      "codemirror_mode": {
        "name": "ipython",
        "version": 3
      },
      "file_extension": ".py",
      "mimetype": "text/x-python",
      "name": "python",
      "nbconvert_exporter": "python",
      "pygments_lexer": "ipython3",
      "version": "3.12.6"
    }
  },
  "nbformat": 4,
  "nbformat_minor": 0
}
